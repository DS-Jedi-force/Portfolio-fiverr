{
 "cells": [
  {
   "cell_type": "code",
   "execution_count": 366,
   "id": "41493e72-4c1a-4ab3-ada8-0963f61bd8d6",
   "metadata": {},
   "outputs": [],
   "source": [
    "import numpy as np\n",
    "import pandas as pd\n",
    "import matplotlib.pyplot as plt\n",
    "import seaborn as sns\n",
    "from sklearn.metrics import accuracy_score, confusion_matrix, roc_auc_score, f1_score,classification_report, recall_score, precision_score\n"
   ]
  },
  {
   "cell_type": "code",
   "execution_count": 367,
   "id": "fc2ae548-ee06-4ad7-b443-8e1aaeb26c53",
   "metadata": {},
   "outputs": [
    {
     "data": {
      "text/html": [
       "<div>\n",
       "<style scoped>\n",
       "    .dataframe tbody tr th:only-of-type {\n",
       "        vertical-align: middle;\n",
       "    }\n",
       "\n",
       "    .dataframe tbody tr th {\n",
       "        vertical-align: top;\n",
       "    }\n",
       "\n",
       "    .dataframe thead th {\n",
       "        text-align: right;\n",
       "    }\n",
       "</style>\n",
       "<table border=\"1\" class=\"dataframe\">\n",
       "  <thead>\n",
       "    <tr style=\"text-align: right;\">\n",
       "      <th></th>\n",
       "      <th>age</th>\n",
       "      <th>job</th>\n",
       "      <th>marital</th>\n",
       "      <th>education</th>\n",
       "      <th>default</th>\n",
       "      <th>balance</th>\n",
       "      <th>housing</th>\n",
       "      <th>loan</th>\n",
       "      <th>contact</th>\n",
       "      <th>day</th>\n",
       "      <th>month</th>\n",
       "      <th>duration</th>\n",
       "      <th>campaign</th>\n",
       "      <th>pdays</th>\n",
       "      <th>previous</th>\n",
       "      <th>poutcome</th>\n",
       "      <th>y</th>\n",
       "    </tr>\n",
       "  </thead>\n",
       "  <tbody>\n",
       "    <tr>\n",
       "      <th>0</th>\n",
       "      <td>58</td>\n",
       "      <td>management</td>\n",
       "      <td>married</td>\n",
       "      <td>tertiary</td>\n",
       "      <td>no</td>\n",
       "      <td>2143</td>\n",
       "      <td>yes</td>\n",
       "      <td>no</td>\n",
       "      <td>unknown</td>\n",
       "      <td>5</td>\n",
       "      <td>may</td>\n",
       "      <td>261</td>\n",
       "      <td>1</td>\n",
       "      <td>-1</td>\n",
       "      <td>0</td>\n",
       "      <td>unknown</td>\n",
       "      <td>no</td>\n",
       "    </tr>\n",
       "    <tr>\n",
       "      <th>1</th>\n",
       "      <td>44</td>\n",
       "      <td>technician</td>\n",
       "      <td>single</td>\n",
       "      <td>secondary</td>\n",
       "      <td>no</td>\n",
       "      <td>29</td>\n",
       "      <td>yes</td>\n",
       "      <td>no</td>\n",
       "      <td>unknown</td>\n",
       "      <td>5</td>\n",
       "      <td>may</td>\n",
       "      <td>151</td>\n",
       "      <td>1</td>\n",
       "      <td>-1</td>\n",
       "      <td>0</td>\n",
       "      <td>unknown</td>\n",
       "      <td>no</td>\n",
       "    </tr>\n",
       "    <tr>\n",
       "      <th>2</th>\n",
       "      <td>33</td>\n",
       "      <td>entrepreneur</td>\n",
       "      <td>married</td>\n",
       "      <td>secondary</td>\n",
       "      <td>no</td>\n",
       "      <td>2</td>\n",
       "      <td>yes</td>\n",
       "      <td>yes</td>\n",
       "      <td>unknown</td>\n",
       "      <td>5</td>\n",
       "      <td>may</td>\n",
       "      <td>76</td>\n",
       "      <td>1</td>\n",
       "      <td>-1</td>\n",
       "      <td>0</td>\n",
       "      <td>unknown</td>\n",
       "      <td>no</td>\n",
       "    </tr>\n",
       "    <tr>\n",
       "      <th>3</th>\n",
       "      <td>47</td>\n",
       "      <td>blue-collar</td>\n",
       "      <td>married</td>\n",
       "      <td>unknown</td>\n",
       "      <td>no</td>\n",
       "      <td>1506</td>\n",
       "      <td>yes</td>\n",
       "      <td>no</td>\n",
       "      <td>unknown</td>\n",
       "      <td>5</td>\n",
       "      <td>may</td>\n",
       "      <td>92</td>\n",
       "      <td>1</td>\n",
       "      <td>-1</td>\n",
       "      <td>0</td>\n",
       "      <td>unknown</td>\n",
       "      <td>no</td>\n",
       "    </tr>\n",
       "    <tr>\n",
       "      <th>4</th>\n",
       "      <td>33</td>\n",
       "      <td>unknown</td>\n",
       "      <td>single</td>\n",
       "      <td>unknown</td>\n",
       "      <td>no</td>\n",
       "      <td>1</td>\n",
       "      <td>no</td>\n",
       "      <td>no</td>\n",
       "      <td>unknown</td>\n",
       "      <td>5</td>\n",
       "      <td>may</td>\n",
       "      <td>198</td>\n",
       "      <td>1</td>\n",
       "      <td>-1</td>\n",
       "      <td>0</td>\n",
       "      <td>unknown</td>\n",
       "      <td>no</td>\n",
       "    </tr>\n",
       "  </tbody>\n",
       "</table>\n",
       "</div>"
      ],
      "text/plain": [
       "   age           job  marital  education default  balance housing loan  \\\n",
       "0   58    management  married   tertiary      no     2143     yes   no   \n",
       "1   44    technician   single  secondary      no       29     yes   no   \n",
       "2   33  entrepreneur  married  secondary      no        2     yes  yes   \n",
       "3   47   blue-collar  married    unknown      no     1506     yes   no   \n",
       "4   33       unknown   single    unknown      no        1      no   no   \n",
       "\n",
       "   contact  day month  duration  campaign  pdays  previous poutcome   y  \n",
       "0  unknown    5   may       261         1     -1         0  unknown  no  \n",
       "1  unknown    5   may       151         1     -1         0  unknown  no  \n",
       "2  unknown    5   may        76         1     -1         0  unknown  no  \n",
       "3  unknown    5   may        92         1     -1         0  unknown  no  \n",
       "4  unknown    5   may       198         1     -1         0  unknown  no  "
      ]
     },
     "execution_count": 367,
     "metadata": {},
     "output_type": "execute_result"
    }
   ],
   "source": [
    "df = pd.read_csv('bank-full.csv', sep = \";\")\n",
    "df.head(5)"
   ]
  },
  {
   "cell_type": "code",
   "execution_count": 368,
   "id": "a93a367a",
   "metadata": {},
   "outputs": [
    {
     "data": {
      "text/html": [
       "<div>\n",
       "<style scoped>\n",
       "    .dataframe tbody tr th:only-of-type {\n",
       "        vertical-align: middle;\n",
       "    }\n",
       "\n",
       "    .dataframe tbody tr th {\n",
       "        vertical-align: top;\n",
       "    }\n",
       "\n",
       "    .dataframe thead th {\n",
       "        text-align: right;\n",
       "    }\n",
       "</style>\n",
       "<table border=\"1\" class=\"dataframe\">\n",
       "  <thead>\n",
       "    <tr style=\"text-align: right;\">\n",
       "      <th></th>\n",
       "      <th>age</th>\n",
       "      <th>balance</th>\n",
       "      <th>day</th>\n",
       "      <th>duration</th>\n",
       "      <th>campaign</th>\n",
       "      <th>pdays</th>\n",
       "      <th>previous</th>\n",
       "    </tr>\n",
       "  </thead>\n",
       "  <tbody>\n",
       "    <tr>\n",
       "      <th>count</th>\n",
       "      <td>45211.000000</td>\n",
       "      <td>45211.000000</td>\n",
       "      <td>45211.000000</td>\n",
       "      <td>45211.000000</td>\n",
       "      <td>45211.000000</td>\n",
       "      <td>45211.000000</td>\n",
       "      <td>45211.000000</td>\n",
       "    </tr>\n",
       "    <tr>\n",
       "      <th>mean</th>\n",
       "      <td>40.936210</td>\n",
       "      <td>1362.272058</td>\n",
       "      <td>15.806419</td>\n",
       "      <td>258.163080</td>\n",
       "      <td>2.763841</td>\n",
       "      <td>40.197828</td>\n",
       "      <td>0.580323</td>\n",
       "    </tr>\n",
       "    <tr>\n",
       "      <th>std</th>\n",
       "      <td>10.618762</td>\n",
       "      <td>3044.765829</td>\n",
       "      <td>8.322476</td>\n",
       "      <td>257.527812</td>\n",
       "      <td>3.098021</td>\n",
       "      <td>100.128746</td>\n",
       "      <td>2.303441</td>\n",
       "    </tr>\n",
       "    <tr>\n",
       "      <th>min</th>\n",
       "      <td>18.000000</td>\n",
       "      <td>-8019.000000</td>\n",
       "      <td>1.000000</td>\n",
       "      <td>0.000000</td>\n",
       "      <td>1.000000</td>\n",
       "      <td>-1.000000</td>\n",
       "      <td>0.000000</td>\n",
       "    </tr>\n",
       "    <tr>\n",
       "      <th>25%</th>\n",
       "      <td>33.000000</td>\n",
       "      <td>72.000000</td>\n",
       "      <td>8.000000</td>\n",
       "      <td>103.000000</td>\n",
       "      <td>1.000000</td>\n",
       "      <td>-1.000000</td>\n",
       "      <td>0.000000</td>\n",
       "    </tr>\n",
       "    <tr>\n",
       "      <th>50%</th>\n",
       "      <td>39.000000</td>\n",
       "      <td>448.000000</td>\n",
       "      <td>16.000000</td>\n",
       "      <td>180.000000</td>\n",
       "      <td>2.000000</td>\n",
       "      <td>-1.000000</td>\n",
       "      <td>0.000000</td>\n",
       "    </tr>\n",
       "    <tr>\n",
       "      <th>75%</th>\n",
       "      <td>48.000000</td>\n",
       "      <td>1428.000000</td>\n",
       "      <td>21.000000</td>\n",
       "      <td>319.000000</td>\n",
       "      <td>3.000000</td>\n",
       "      <td>-1.000000</td>\n",
       "      <td>0.000000</td>\n",
       "    </tr>\n",
       "    <tr>\n",
       "      <th>max</th>\n",
       "      <td>95.000000</td>\n",
       "      <td>102127.000000</td>\n",
       "      <td>31.000000</td>\n",
       "      <td>4918.000000</td>\n",
       "      <td>63.000000</td>\n",
       "      <td>871.000000</td>\n",
       "      <td>275.000000</td>\n",
       "    </tr>\n",
       "  </tbody>\n",
       "</table>\n",
       "</div>"
      ],
      "text/plain": [
       "                age        balance           day      duration      campaign  \\\n",
       "count  45211.000000   45211.000000  45211.000000  45211.000000  45211.000000   \n",
       "mean      40.936210    1362.272058     15.806419    258.163080      2.763841   \n",
       "std       10.618762    3044.765829      8.322476    257.527812      3.098021   \n",
       "min       18.000000   -8019.000000      1.000000      0.000000      1.000000   \n",
       "25%       33.000000      72.000000      8.000000    103.000000      1.000000   \n",
       "50%       39.000000     448.000000     16.000000    180.000000      2.000000   \n",
       "75%       48.000000    1428.000000     21.000000    319.000000      3.000000   \n",
       "max       95.000000  102127.000000     31.000000   4918.000000     63.000000   \n",
       "\n",
       "              pdays      previous  \n",
       "count  45211.000000  45211.000000  \n",
       "mean      40.197828      0.580323  \n",
       "std      100.128746      2.303441  \n",
       "min       -1.000000      0.000000  \n",
       "25%       -1.000000      0.000000  \n",
       "50%       -1.000000      0.000000  \n",
       "75%       -1.000000      0.000000  \n",
       "max      871.000000    275.000000  "
      ]
     },
     "execution_count": 368,
     "metadata": {},
     "output_type": "execute_result"
    }
   ],
   "source": [
    "df.describe()"
   ]
  },
  {
   "cell_type": "markdown",
   "id": "129c89ed-bb75-4b22-b29b-156fe9652238",
   "metadata": {},
   "source": [
    "# Outlier detection"
   ]
  },
  {
   "cell_type": "code",
   "execution_count": 369,
   "id": "8196c4fe-c47f-4929-bdb5-ad2cdf64b0d8",
   "metadata": {},
   "outputs": [
    {
     "name": "stderr",
     "output_type": "stream",
     "text": [
      "/Users/vivek/anaconda3/lib/python3.8/site-packages/seaborn/_decorators.py:36: FutureWarning: Pass the following variable as a keyword arg: x. From version 0.12, the only valid positional argument will be `data`, and passing other arguments without an explicit keyword will result in an error or misinterpretation.\n",
      "  warnings.warn(\n"
     ]
    },
    {
     "data": {
      "image/png": "[encoded data removed]",
      "text/plain": [
       "<Figure size 432x288 with 1 Axes>"
      ]
     },
     "metadata": {
      "needs_background": "light"
     },
     "output_type": "display_data"
    },
    {
     "name": "stderr",
     "output_type": "stream",
     "text": [
      "/Users/vivek/anaconda3/lib/python3.8/site-packages/seaborn/_decorators.py:36: FutureWarning: Pass the following variable as a keyword arg: x. From version 0.12, the only valid positional argument will be `data`, and passing other arguments without an explicit keyword will result in an error or misinterpretation.\n",
      "  warnings.warn(\n"
     ]
    },
    {
     "data": {
      "image/png": "[encoded data removed]",
      "text/plain": [
       "<Figure size 432x288 with 1 Axes>"
      ]
     },
     "metadata": {
      "needs_background": "light"
     },
     "output_type": "display_data"
    },
    {
     "name": "stderr",
     "output_type": "stream",
     "text": [
      "/Users/vivek/anaconda3/lib/python3.8/site-packages/seaborn/_decorators.py:36: FutureWarning: Pass the following variable as a keyword arg: x. From version 0.12, the only valid positional argument will be `data`, and passing other arguments without an explicit keyword will result in an error or misinterpretation.\n",
      "  warnings.warn(\n"
     ]
    },
    {
     "data": {
      "image/png": "[encoded data removed]",
      "text/plain": [
       "<Figure size 432x288 with 1 Axes>"
      ]
     },
     "metadata": {
      "needs_background": "light"
     },
     "output_type": "display_data"
    },
    {
     "name": "stderr",
     "output_type": "stream",
     "text": [
      "/Users/vivek/anaconda3/lib/python3.8/site-packages/seaborn/_decorators.py:36: FutureWarning: Pass the following variable as a keyword arg: x. From version 0.12, the only valid positional argument will be `data`, and passing other arguments without an explicit keyword will result in an error or misinterpretation.\n",
      "  warnings.warn(\n"
     ]
    },
    {
     "data": {
      "image/png": "[encoded data removed]",
      "text/plain": [
       "<Figure size 432x288 with 1 Axes>"
      ]
     },
     "metadata": {
      "needs_background": "light"
     },
     "output_type": "display_data"
    },
    {
     "name": "stderr",
     "output_type": "stream",
     "text": [
      "/Users/vivek/anaconda3/lib/python3.8/site-packages/seaborn/_decorators.py:36: FutureWarning: Pass the following variable as a keyword arg: x. From version 0.12, the only valid positional argument will be `data`, and passing other arguments without an explicit keyword will result in an error or misinterpretation.\n",
      "  warnings.warn(\n"
     ]
    },
    {
     "data": {
      "image/png": "[encoded data removed]",
      "text/plain": [
       "<Figure size 432x288 with 1 Axes>"
      ]
     },
     "metadata": {
      "needs_background": "light"
     },
     "output_type": "display_data"
    },
    {
     "name": "stderr",
     "output_type": "stream",
     "text": [
      "/Users/vivek/anaconda3/lib/python3.8/site-packages/seaborn/_decorators.py:36: FutureWarning: Pass the following variable as a keyword arg: x. From version 0.12, the only valid positional argument will be `data`, and passing other arguments without an explicit keyword will result in an error or misinterpretation.\n",
      "  warnings.warn(\n"
     ]
    },
    {
     "data": {
      "image/png": "[encoded data removed]",
      "text/plain": [
       "<Figure size 432x288 with 1 Axes>"
      ]
     },
     "metadata": {
      "needs_background": "light"
     },
     "output_type": "display_data"
    },
    {
     "name": "stderr",
     "output_type": "stream",
     "text": [
      "/Users/vivek/anaconda3/lib/python3.8/site-packages/seaborn/_decorators.py:36: FutureWarning: Pass the following variable as a keyword arg: x. From version 0.12, the only valid positional argument will be `data`, and passing other arguments without an explicit keyword will result in an error or misinterpretation.\n",
      "  warnings.warn(\n"
     ]
    },
    {
     "data": {
      "image/png": "[encoded data removed]",
      "text/plain": [
       "<Figure size 432x288 with 1 Axes>"
      ]
     },
     "metadata": {
      "needs_background": "light"
     },
     "output_type": "display_data"
    }
   ],
   "source": [
    "numerics = ['int16', 'int32', 'int64', 'float16', 'float32', 'float64']\n",
    "for i in df.select_dtypes(include=numerics).columns:\n",
    "    sns.boxplot(df[i])\n",
    "    plt.show()"
   ]
  },
  {
   "cell_type": "code",
   "execution_count": 370,
   "id": "283a4430",
   "metadata": {},
   "outputs": [
    {
     "name": "stdout",
     "output_type": "stream",
     "text": [
      "(array([   34,    65,    69, ..., 45185, 45191, 45208]),)\n",
      "(array([ 1896,  7413,  7756, 11655, 12909, 13687, 13708, 14434, 15682,\n",
      "       17159, 18573, 20317, 25119, 25240, 31509, 32713, 38736]),)\n",
      "New Shape:  (40480, 17)\n"
     ]
    }
   ],
   "source": [
    "q1_balance = df['balance'].quantile(0.25)\n",
    "q2_balance = df['balance'].quantile(0.5)\n",
    "q3_balance = df['balance'].quantile(0.75)\n",
    "\n",
    "iqr = q3_balance-q1_balance\n",
    "iqr\n",
    "# Upper bound\n",
    "upper = np.where(df['balance'] >= (q3_balance+1.5*iqr))\n",
    "print(upper)\n",
    "# Lower bound\n",
    "lower = np.where(df['balance'] <= (q1_balance-1.5*iqr))\n",
    "print(lower)\n",
    "''' Removing the Outliers '''\n",
    "df.drop(upper[0], inplace = True)\n",
    "df.drop(lower[0], inplace = True)\n",
    "df = df.reset_index().drop(columns = [\"index\"])\n",
    "print(\"New Shape: \", df.shape)"
   ]
  },
  {
   "cell_type": "code",
   "execution_count": 371,
   "id": "17365b5b",
   "metadata": {},
   "outputs": [
    {
     "name": "stdout",
     "output_type": "stream",
     "text": [
      "IQR: 2.0\n",
      "q1_campaign: 1.0\n",
      "q2_campaign: 2.0\n",
      "q3_campaign: 3.0\n",
      "(array([  687,   737,   759, ..., 40195, 40200, 40311]),)\n",
      "New Shape:  (36569, 17)\n"
     ]
    }
   ],
   "source": [
    "q1_campaign = df['campaign'].quantile(0.25)\n",
    "q2_campaign = df['campaign'].quantile(0.5)\n",
    "q3_campaign = df['campaign'].quantile(0.75)\n",
    "\n",
    "iqr = q3_campaign-q1_campaign\n",
    "print(\"IQR:\", iqr)\n",
    "print(\"q1_campaign:\", q1_campaign)\n",
    "print(\"q2_campaign:\", q2_campaign)\n",
    "print(\"q3_campaign:\", q3_campaign)\n",
    "# Upper bound\n",
    "upper = np.where(df['campaign'] >= (q3_campaign+1.5*iqr))\n",
    "# Lower bound\n",
    "lower = np.where(df['campaign'] <= (q1_campaign-1.5*iqr))\n",
    "print(upper)\n",
    "''' Removing the Outliers '''\n",
    "df.drop(upper[0],axis = 0, inplace = True)\n",
    "df.drop(lower[0],axis = 0, inplace = True)\n",
    "df = df.reset_index().drop(columns = [\"index\"])\n",
    "print(\"New Shape: \", df.shape)"
   ]
  },
  {
   "cell_type": "code",
   "execution_count": 372,
   "id": "45f9a3fe",
   "metadata": {},
   "outputs": [
    {
     "name": "stdout",
     "output_type": "stream",
     "text": [
      "IQR: 214.0\n",
      "q1_duration: 109.0\n",
      "q2_duration: 185.0\n",
      "q3_duration: 323.0\n",
      "(array([   36,    42,    52, ..., 36558, 36559, 36565]),)\n",
      "New Shape:  (36569, 17)\n"
     ]
    }
   ],
   "source": [
    "q1_duration = df['duration'].quantile(0.25)\n",
    "q2_duration = df['duration'].quantile(0.5)\n",
    "q3_duration = df['duration'].quantile(0.75)\n",
    "df = df.reset_index().drop(columns = [\"index\"])\n",
    "iqr = q3_duration-q1_duration\n",
    "print(\"IQR:\", iqr)\n",
    "print(\"q1_duration:\", q1_duration)\n",
    "print(\"q2_duration:\", q2_duration)\n",
    "print(\"q3_duration:\", q3_duration)\n",
    "# Upper bound\n",
    "upper = np.where(df['duration'] >= (q3_duration+1.5*iqr))\n",
    "# Lower bound\n",
    "lower = np.where(df['duration'] <= (q1_duration-1.5*iqr))\n",
    "print(upper)\n",
    "''' Removing the Outliers '''\n",
    "#df.drop(upper[0], inplace = True)\n",
    "#df.drop(lower[0], inplace = True)\n",
    " \n",
    "print(\"New Shape: \", df.shape)"
   ]
  },
  {
   "cell_type": "code",
   "execution_count": 373,
   "id": "5b9a4aab",
   "metadata": {},
   "outputs": [],
   "source": [
    "### Leaving pdays for now"
   ]
  },
  {
   "cell_type": "code",
   "execution_count": 374,
   "id": "c7f0b609",
   "metadata": {},
   "outputs": [
    {
     "name": "stdout",
     "output_type": "stream",
     "text": [
      "IQR: 0.0\n",
      "q1_pdays: -1.0\n",
      "q2_pdays: -1.0\n",
      "q3_pdays: -1.0\n",
      "(array([    0,     1,     2, ..., 36566, 36567, 36568]),)\n",
      "New Shape:  (36569, 17)\n"
     ]
    }
   ],
   "source": [
    "q1_pdays = df['pdays'].quantile(0.25)\n",
    "q2_pdays = df['pdays'].quantile(0.5)\n",
    "q3_pdays = df['pdays'].quantile(0.75)\n",
    "\n",
    "iqr = q3_pdays-q1_pdays\n",
    "print(\"IQR:\", iqr)\n",
    "print(\"q1_pdays:\", q1_pdays)\n",
    "print(\"q2_pdays:\", q2_pdays)\n",
    "print(\"q3_pdays:\", q3_pdays)\n",
    "# Upper bound\n",
    "upper = np.where(df['pdays'] >= (q3_pdays+1.5*iqr))\n",
    "# Lower bound\n",
    "lower = np.where(df['pdays'] <= (q1_pdays-1.5*iqr))\n",
    "print(upper)\n",
    "''' Removing the Outliers '''\n",
    "#df.drop(upper[0], inplace = True)\n",
    "#df.drop(lower[0], inplace = True)\n",
    " \n",
    "print(\"New Shape: \", df.shape)"
   ]
  },
  {
   "cell_type": "markdown",
   "id": "c4efe6a5-68b8-49cd-807b-9bfb6d466e1f",
   "metadata": {},
   "source": [
    "# Feature engineering"
   ]
  },
  {
   "cell_type": "markdown",
   "id": "0d76cae9-db16-4527-8777-dbd5bef2bfb2",
   "metadata": {},
   "source": [
    "### Imbalance"
   ]
  },
  {
   "cell_type": "code",
   "execution_count": 375,
   "id": "42566560-ae98-461e-836c-7016e7f2fb31",
   "metadata": {},
   "outputs": [
    {
     "name": "stdout",
     "output_type": "stream",
     "text": [
      "default\n",
      "98.06940304629605\n",
      "loan\n",
      "83.13872405589434\n",
      "poutcome\n",
      "81.04405370669146\n",
      "y\n",
      "88.2222647597692\n",
      "previous\n",
      "81.03038092373322\n",
      "pdays\n",
      "81.03038092373322\n"
     ]
    }
   ],
   "source": [
    "for i in df.select_dtypes(exclude=numerics).columns.tolist()+[\"previous\",\"pdays\"]:\n",
    "    \n",
    "    x = (df[i].value_counts()/len(df)*100)\n",
    "    y = pd.DataFrame(x).reset_index().drop(\"index\", axis = 1).iloc[0][0]\n",
    "#     print(x)\n",
    "    if y >80:\n",
    "        print(i)\n",
    "        print(y)\n",
    "#     print(\"\\n\")"
   ]
  },
  {
   "cell_type": "markdown",
   "id": "c42f85e2-7ad8-44ba-9a1e-52e0737e36de",
   "metadata": {},
   "source": [
    "### Hypothesis Testing"
   ]
  },
  {
   "cell_type": "code",
   "execution_count": 376,
   "id": "81ee55e2-a17d-4771-8077-9b8bd89ca14f",
   "metadata": {},
   "outputs": [
    {
     "name": "stdout",
     "output_type": "stream",
     "text": [
      "job p_value:  0.0\n",
      "marital p_value:  0.0\n",
      "education p_value:  0.0\n",
      "default p_value:  0.0\n",
      "housing p_value:  0.0\n",
      "loan p_value:  0.0\n",
      "contact p_value:  0.0\n",
      "month p_value:  0.0\n",
      "poutcome p_value:  0.0\n",
      "y p_value:  0.0\n"
     ]
    }
   ],
   "source": [
    "from scipy.stats import chi2_contingency\n",
    "for i in df.select_dtypes(exclude=numerics).columns.tolist():\n",
    "\n",
    "    contigency= pd.crosstab(df['y'], df[i])\n",
    "    c, p, dof, expected = chi2_contingency(contigency)\n",
    "\n",
    "    print(i,\"p_value: \",round(p,3))"
   ]
  },
  {
   "cell_type": "code",
   "execution_count": 377,
   "id": "519faf48-4506-4027-8b02-dd48dbba6b6d",
   "metadata": {},
   "outputs": [
    {
     "data": {
      "text/plain": [
       "no     35863\n",
       "yes      706\n",
       "Name: default, dtype: int64"
      ]
     },
     "execution_count": 377,
     "metadata": {},
     "output_type": "execute_result"
    }
   ],
   "source": [
    "(df[\"default\"].value_counts())"
   ]
  },
  {
   "cell_type": "code",
   "execution_count": 378,
   "id": "97d5d285-dd07-488e-ab14-e85800b11480",
   "metadata": {},
   "outputs": [],
   "source": [
    "X = df.drop(columns = [\"y\"])\n",
    "X1 = pd.get_dummies(X,columns = [\"job\",\"marital\",'education',\n",
    "                                'default','housing','loan','contact','month','poutcome'])\n",
    "y = df[\"y\"]\n",
    "\n",
    "from imblearn.over_sampling import SMOTE\n",
    "oversample = SMOTE()\n",
    "X1, y = oversample.fit_resample(X1, y)"
   ]
  },
  {
   "cell_type": "code",
   "execution_count": 379,
   "id": "865fe706-0ef3-448d-9faf-d66a698c4a8a",
   "metadata": {},
   "outputs": [
    {
     "data": {
      "text/plain": [
       "Index(['age', 'balance', 'day', 'duration', 'campaign', 'pdays', 'previous',\n",
       "       'job_admin.', 'job_blue-collar', 'job_entrepreneur', 'job_housemaid',\n",
       "       'job_management', 'job_retired', 'job_self-employed', 'job_services',\n",
       "       'job_student', 'job_technician', 'job_unemployed', 'job_unknown',\n",
       "       'marital_divorced', 'marital_married', 'marital_single',\n",
       "       'education_primary', 'education_secondary', 'education_tertiary',\n",
       "       'education_unknown', 'default_no', 'default_yes', 'housing_no',\n",
       "       'housing_yes', 'loan_no', 'loan_yes', 'contact_cellular',\n",
       "       'contact_telephone', 'contact_unknown', 'month_apr', 'month_aug',\n",
       "       'month_dec', 'month_feb', 'month_jan', 'month_jul', 'month_jun',\n",
       "       'month_mar', 'month_may', 'month_nov', 'month_oct', 'month_sep',\n",
       "       'poutcome_failure', 'poutcome_other', 'poutcome_success',\n",
       "       'poutcome_unknown'],\n",
       "      dtype='object')"
      ]
     },
     "execution_count": 379,
     "metadata": {},
     "output_type": "execute_result"
    }
   ],
   "source": [
    "X1.columns"
   ]
  },
  {
   "cell_type": "code",
   "execution_count": 380,
   "id": "1c72ade3-5989-47c1-ad10-9412a62a93c2",
   "metadata": {},
   "outputs": [
    {
     "data": {
      "text/plain": [
       "['job_admin.',\n",
       " 'job_blue-collar',\n",
       " 'job_entrepreneur',\n",
       " 'job_housemaid',\n",
       " 'job_management',\n",
       " 'job_retired',\n",
       " 'job_self-employed',\n",
       " 'job_services',\n",
       " 'job_student',\n",
       " 'job_technician',\n",
       " 'job_unemployed',\n",
       " 'job_unknown']"
      ]
     },
     "execution_count": 380,
     "metadata": {},
     "output_type": "execute_result"
    }
   ],
   "source": [
    "filter_col = [col for col in X1 if col.startswith('job')]\n",
    "filter_col"
   ]
  },
  {
   "cell_type": "code",
   "execution_count": 381,
   "id": "231d1308-6e06-4c9f-ade2-beec96579054",
   "metadata": {},
   "outputs": [
    {
     "data": {
      "text/html": [
       "<div>\n",
       "<style scoped>\n",
       "    .dataframe tbody tr th:only-of-type {\n",
       "        vertical-align: middle;\n",
       "    }\n",
       "\n",
       "    .dataframe tbody tr th {\n",
       "        vertical-align: top;\n",
       "    }\n",
       "\n",
       "    .dataframe thead th {\n",
       "        text-align: right;\n",
       "    }\n",
       "</style>\n",
       "<table border=\"1\" class=\"dataframe\">\n",
       "  <thead>\n",
       "    <tr style=\"text-align: right;\">\n",
       "      <th></th>\n",
       "      <th>age</th>\n",
       "      <th>balance</th>\n",
       "      <th>day</th>\n",
       "      <th>duration</th>\n",
       "      <th>campaign</th>\n",
       "      <th>pdays</th>\n",
       "      <th>previous</th>\n",
       "      <th>job_admin.</th>\n",
       "      <th>job_blue-collar</th>\n",
       "      <th>job_entrepreneur</th>\n",
       "      <th>...</th>\n",
       "      <th>poutcome_unknown</th>\n",
       "      <th>job</th>\n",
       "      <th>marital</th>\n",
       "      <th>education</th>\n",
       "      <th>default</th>\n",
       "      <th>housing</th>\n",
       "      <th>loan</th>\n",
       "      <th>contact</th>\n",
       "      <th>month</th>\n",
       "      <th>poutcome</th>\n",
       "    </tr>\n",
       "  </thead>\n",
       "  <tbody>\n",
       "    <tr>\n",
       "      <th>0</th>\n",
       "      <td>58</td>\n",
       "      <td>2143</td>\n",
       "      <td>5</td>\n",
       "      <td>261</td>\n",
       "      <td>1</td>\n",
       "      <td>-1</td>\n",
       "      <td>0</td>\n",
       "      <td>0</td>\n",
       "      <td>0</td>\n",
       "      <td>0</td>\n",
       "      <td>...</td>\n",
       "      <td>1</td>\n",
       "      <td>job_management</td>\n",
       "      <td>marital_married</td>\n",
       "      <td>education_tertiary</td>\n",
       "      <td>default_no</td>\n",
       "      <td>housing_yes</td>\n",
       "      <td>loan_no</td>\n",
       "      <td>contact_unknown</td>\n",
       "      <td>month_may</td>\n",
       "      <td>poutcome_unknown</td>\n",
       "    </tr>\n",
       "    <tr>\n",
       "      <th>1</th>\n",
       "      <td>44</td>\n",
       "      <td>29</td>\n",
       "      <td>5</td>\n",
       "      <td>151</td>\n",
       "      <td>1</td>\n",
       "      <td>-1</td>\n",
       "      <td>0</td>\n",
       "      <td>0</td>\n",
       "      <td>0</td>\n",
       "      <td>0</td>\n",
       "      <td>...</td>\n",
       "      <td>1</td>\n",
       "      <td>job_technician</td>\n",
       "      <td>marital_single</td>\n",
       "      <td>education_secondary</td>\n",
       "      <td>default_no</td>\n",
       "      <td>housing_yes</td>\n",
       "      <td>loan_no</td>\n",
       "      <td>contact_unknown</td>\n",
       "      <td>month_may</td>\n",
       "      <td>poutcome_unknown</td>\n",
       "    </tr>\n",
       "    <tr>\n",
       "      <th>2</th>\n",
       "      <td>33</td>\n",
       "      <td>2</td>\n",
       "      <td>5</td>\n",
       "      <td>76</td>\n",
       "      <td>1</td>\n",
       "      <td>-1</td>\n",
       "      <td>0</td>\n",
       "      <td>0</td>\n",
       "      <td>0</td>\n",
       "      <td>1</td>\n",
       "      <td>...</td>\n",
       "      <td>1</td>\n",
       "      <td>job_entrepreneur</td>\n",
       "      <td>marital_married</td>\n",
       "      <td>education_secondary</td>\n",
       "      <td>default_no</td>\n",
       "      <td>housing_yes</td>\n",
       "      <td>loan_yes</td>\n",
       "      <td>contact_unknown</td>\n",
       "      <td>month_may</td>\n",
       "      <td>poutcome_unknown</td>\n",
       "    </tr>\n",
       "    <tr>\n",
       "      <th>3</th>\n",
       "      <td>47</td>\n",
       "      <td>1506</td>\n",
       "      <td>5</td>\n",
       "      <td>92</td>\n",
       "      <td>1</td>\n",
       "      <td>-1</td>\n",
       "      <td>0</td>\n",
       "      <td>0</td>\n",
       "      <td>1</td>\n",
       "      <td>0</td>\n",
       "      <td>...</td>\n",
       "      <td>1</td>\n",
       "      <td>job_blue-collar</td>\n",
       "      <td>marital_married</td>\n",
       "      <td>education_unknown</td>\n",
       "      <td>default_no</td>\n",
       "      <td>housing_yes</td>\n",
       "      <td>loan_no</td>\n",
       "      <td>contact_unknown</td>\n",
       "      <td>month_may</td>\n",
       "      <td>poutcome_unknown</td>\n",
       "    </tr>\n",
       "    <tr>\n",
       "      <th>4</th>\n",
       "      <td>33</td>\n",
       "      <td>1</td>\n",
       "      <td>5</td>\n",
       "      <td>198</td>\n",
       "      <td>1</td>\n",
       "      <td>-1</td>\n",
       "      <td>0</td>\n",
       "      <td>0</td>\n",
       "      <td>0</td>\n",
       "      <td>0</td>\n",
       "      <td>...</td>\n",
       "      <td>1</td>\n",
       "      <td>job_unknown</td>\n",
       "      <td>marital_single</td>\n",
       "      <td>education_unknown</td>\n",
       "      <td>default_no</td>\n",
       "      <td>housing_no</td>\n",
       "      <td>loan_no</td>\n",
       "      <td>contact_unknown</td>\n",
       "      <td>month_may</td>\n",
       "      <td>poutcome_unknown</td>\n",
       "    </tr>\n",
       "    <tr>\n",
       "      <th>...</th>\n",
       "      <td>...</td>\n",
       "      <td>...</td>\n",
       "      <td>...</td>\n",
       "      <td>...</td>\n",
       "      <td>...</td>\n",
       "      <td>...</td>\n",
       "      <td>...</td>\n",
       "      <td>...</td>\n",
       "      <td>...</td>\n",
       "      <td>...</td>\n",
       "      <td>...</td>\n",
       "      <td>...</td>\n",
       "      <td>...</td>\n",
       "      <td>...</td>\n",
       "      <td>...</td>\n",
       "      <td>...</td>\n",
       "      <td>...</td>\n",
       "      <td>...</td>\n",
       "      <td>...</td>\n",
       "      <td>...</td>\n",
       "      <td>...</td>\n",
       "    </tr>\n",
       "    <tr>\n",
       "      <th>64519</th>\n",
       "      <td>24</td>\n",
       "      <td>23</td>\n",
       "      <td>4</td>\n",
       "      <td>191</td>\n",
       "      <td>1</td>\n",
       "      <td>-1</td>\n",
       "      <td>0</td>\n",
       "      <td>0</td>\n",
       "      <td>0</td>\n",
       "      <td>0</td>\n",
       "      <td>...</td>\n",
       "      <td>1</td>\n",
       "      <td>job_admin.</td>\n",
       "      <td>marital_single</td>\n",
       "      <td>education_secondary</td>\n",
       "      <td>default_no</td>\n",
       "      <td>housing_no</td>\n",
       "      <td>loan_no</td>\n",
       "      <td>contact_cellular</td>\n",
       "      <td>month_apr</td>\n",
       "      <td>poutcome_unknown</td>\n",
       "    </tr>\n",
       "    <tr>\n",
       "      <th>64520</th>\n",
       "      <td>23</td>\n",
       "      <td>117</td>\n",
       "      <td>16</td>\n",
       "      <td>268</td>\n",
       "      <td>1</td>\n",
       "      <td>-1</td>\n",
       "      <td>0</td>\n",
       "      <td>0</td>\n",
       "      <td>0</td>\n",
       "      <td>0</td>\n",
       "      <td>...</td>\n",
       "      <td>1</td>\n",
       "      <td>job_student</td>\n",
       "      <td>marital_single</td>\n",
       "      <td>education_primary</td>\n",
       "      <td>default_no</td>\n",
       "      <td>housing_no</td>\n",
       "      <td>loan_no</td>\n",
       "      <td>contact_cellular</td>\n",
       "      <td>month_apr</td>\n",
       "      <td>poutcome_unknown</td>\n",
       "    </tr>\n",
       "    <tr>\n",
       "      <th>64521</th>\n",
       "      <td>23</td>\n",
       "      <td>423</td>\n",
       "      <td>3</td>\n",
       "      <td>764</td>\n",
       "      <td>1</td>\n",
       "      <td>-1</td>\n",
       "      <td>0</td>\n",
       "      <td>0</td>\n",
       "      <td>0</td>\n",
       "      <td>0</td>\n",
       "      <td>...</td>\n",
       "      <td>1</td>\n",
       "      <td>job_admin.</td>\n",
       "      <td>marital_single</td>\n",
       "      <td>education_primary</td>\n",
       "      <td>default_no</td>\n",
       "      <td>housing_no</td>\n",
       "      <td>loan_no</td>\n",
       "      <td>contact_cellular</td>\n",
       "      <td>month_apr</td>\n",
       "      <td>poutcome_unknown</td>\n",
       "    </tr>\n",
       "    <tr>\n",
       "      <th>64522</th>\n",
       "      <td>32</td>\n",
       "      <td>465</td>\n",
       "      <td>12</td>\n",
       "      <td>323</td>\n",
       "      <td>1</td>\n",
       "      <td>518</td>\n",
       "      <td>1</td>\n",
       "      <td>0</td>\n",
       "      <td>0</td>\n",
       "      <td>0</td>\n",
       "      <td>...</td>\n",
       "      <td>0</td>\n",
       "      <td>job_admin.</td>\n",
       "      <td>marital_divorced</td>\n",
       "      <td>education_primary</td>\n",
       "      <td>default_no</td>\n",
       "      <td>housing_no</td>\n",
       "      <td>loan_no</td>\n",
       "      <td>contact_cellular</td>\n",
       "      <td>month_apr</td>\n",
       "      <td>poutcome_failure</td>\n",
       "    </tr>\n",
       "    <tr>\n",
       "      <th>64523</th>\n",
       "      <td>30</td>\n",
       "      <td>817</td>\n",
       "      <td>7</td>\n",
       "      <td>237</td>\n",
       "      <td>1</td>\n",
       "      <td>-1</td>\n",
       "      <td>0</td>\n",
       "      <td>0</td>\n",
       "      <td>0</td>\n",
       "      <td>0</td>\n",
       "      <td>...</td>\n",
       "      <td>1</td>\n",
       "      <td>job_admin.</td>\n",
       "      <td>marital_single</td>\n",
       "      <td>education_primary</td>\n",
       "      <td>default_no</td>\n",
       "      <td>housing_no</td>\n",
       "      <td>loan_no</td>\n",
       "      <td>contact_cellular</td>\n",
       "      <td>month_apr</td>\n",
       "      <td>poutcome_unknown</td>\n",
       "    </tr>\n",
       "  </tbody>\n",
       "</table>\n",
       "<p>64524 rows × 60 columns</p>\n",
       "</div>"
      ],
      "text/plain": [
       "       age  balance  day  duration  campaign  pdays  previous  job_admin.  \\\n",
       "0       58     2143    5       261         1     -1         0           0   \n",
       "1       44       29    5       151         1     -1         0           0   \n",
       "2       33        2    5        76         1     -1         0           0   \n",
       "3       47     1506    5        92         1     -1         0           0   \n",
       "4       33        1    5       198         1     -1         0           0   \n",
       "...    ...      ...  ...       ...       ...    ...       ...         ...   \n",
       "64519   24       23    4       191         1     -1         0           0   \n",
       "64520   23      117   16       268         1     -1         0           0   \n",
       "64521   23      423    3       764         1     -1         0           0   \n",
       "64522   32      465   12       323         1    518         1           0   \n",
       "64523   30      817    7       237         1     -1         0           0   \n",
       "\n",
       "       job_blue-collar  job_entrepreneur  ...  poutcome_unknown  \\\n",
       "0                    0                 0  ...                 1   \n",
       "1                    0                 0  ...                 1   \n",
       "2                    0                 1  ...                 1   \n",
       "3                    1                 0  ...                 1   \n",
       "4                    0                 0  ...                 1   \n",
       "...                ...               ...  ...               ...   \n",
       "64519                0                 0  ...                 1   \n",
       "64520                0                 0  ...                 1   \n",
       "64521                0                 0  ...                 1   \n",
       "64522                0                 0  ...                 0   \n",
       "64523                0                 0  ...                 1   \n",
       "\n",
       "                    job           marital            education     default  \\\n",
       "0        job_management   marital_married   education_tertiary  default_no   \n",
       "1        job_technician    marital_single  education_secondary  default_no   \n",
       "2      job_entrepreneur   marital_married  education_secondary  default_no   \n",
       "3       job_blue-collar   marital_married    education_unknown  default_no   \n",
       "4           job_unknown    marital_single    education_unknown  default_no   \n",
       "...                 ...               ...                  ...         ...   \n",
       "64519        job_admin.    marital_single  education_secondary  default_no   \n",
       "64520       job_student    marital_single    education_primary  default_no   \n",
       "64521        job_admin.    marital_single    education_primary  default_no   \n",
       "64522        job_admin.  marital_divorced    education_primary  default_no   \n",
       "64523        job_admin.    marital_single    education_primary  default_no   \n",
       "\n",
       "           housing      loan           contact      month          poutcome  \n",
       "0      housing_yes   loan_no   contact_unknown  month_may  poutcome_unknown  \n",
       "1      housing_yes   loan_no   contact_unknown  month_may  poutcome_unknown  \n",
       "2      housing_yes  loan_yes   contact_unknown  month_may  poutcome_unknown  \n",
       "3      housing_yes   loan_no   contact_unknown  month_may  poutcome_unknown  \n",
       "4       housing_no   loan_no   contact_unknown  month_may  poutcome_unknown  \n",
       "...            ...       ...               ...        ...               ...  \n",
       "64519   housing_no   loan_no  contact_cellular  month_apr  poutcome_unknown  \n",
       "64520   housing_no   loan_no  contact_cellular  month_apr  poutcome_unknown  \n",
       "64521   housing_no   loan_no  contact_cellular  month_apr  poutcome_unknown  \n",
       "64522   housing_no   loan_no  contact_cellular  month_apr  poutcome_failure  \n",
       "64523   housing_no   loan_no  contact_cellular  month_apr  poutcome_unknown  \n",
       "\n",
       "[64524 rows x 60 columns]"
      ]
     },
     "execution_count": 381,
     "metadata": {},
     "output_type": "execute_result"
    }
   ],
   "source": [
    "l = [\"job\",\"marital\",'education','default','housing','loan','contact','month','poutcome']\n",
    "for i in l:\n",
    "    filter_col = [col for col in X1 if col.startswith(i)]\n",
    "    X1[i] = X1[filter_col].idxmax(1)\n",
    "X1\n"
   ]
  },
  {
   "cell_type": "code",
   "execution_count": null,
   "id": "4286fa8b-8465-456d-9c6c-e4677cc52dc1",
   "metadata": {},
   "outputs": [],
   "source": []
  },
  {
   "cell_type": "code",
   "execution_count": 382,
   "id": "f3fc8000-5f3d-4e4d-b226-e5b1e355b02f",
   "metadata": {},
   "outputs": [
    {
     "data": {
      "text/plain": [
       "no     32262\n",
       "yes    32262\n",
       "Name: y, dtype: int64"
      ]
     },
     "execution_count": 382,
     "metadata": {},
     "output_type": "execute_result"
    }
   ],
   "source": [
    "y.value_counts()"
   ]
  },
  {
   "cell_type": "markdown",
   "id": "fc82fce3-5398-4dd3-9a17-efe6ffe6145c",
   "metadata": {},
   "source": [
    "### Check imblance"
   ]
  },
  {
   "cell_type": "code",
   "execution_count": 383,
   "id": "8fb4b3a4-3134-4f43-b867-03e706872710",
   "metadata": {},
   "outputs": [
    {
     "name": "stdout",
     "output_type": "stream",
     "text": [
      "default\n",
      "98.82524332031493\n",
      "loan\n",
      "89.82239166821647\n",
      "contact\n",
      "78.89312503874527\n",
      "poutcome\n",
      "73.18052197631889\n",
      "previous\n",
      "73.99572252185234\n",
      "pdays\n",
      "73.16812348893434\n"
     ]
    },
    {
     "data": {
      "text/plain": [
       "['default', 'loan', 'contact', 'poutcome', 'previous', 'pdays']"
      ]
     },
     "execution_count": 383,
     "metadata": {},
     "output_type": "execute_result"
    }
   ],
   "source": [
    "drop = []\n",
    "#drop1 = [\"month\"]\n",
    "for i in l + [\"previous\",\"pdays\"]:\n",
    "    \n",
    "    x = (X1[i].value_counts()/len(X1)*100)\n",
    "    y = pd.DataFrame(x).reset_index().drop(\"index\", axis = 1).iloc[0][0]\n",
    "#     print(x)\n",
    "    if y >70:\n",
    "        print(i)\n",
    "        print(y)\n",
    "        drop.append(i)\n",
    "#drop.dtype()\n",
    "#drop = drop + drop1\n",
    "drop"
   ]
  },
  {
   "cell_type": "markdown",
   "id": "7a3e01d7-fe40-4084-b549-7f5e95b9a337",
   "metadata": {},
   "source": [
    "### Drop imbalanced columns and Re-do Over sampling on original data"
   ]
  },
  {
   "cell_type": "code",
   "execution_count": 384,
   "id": "e47c3307-5844-41ac-b70e-609a049c2dcd",
   "metadata": {},
   "outputs": [],
   "source": [
    "df1 = df.drop(columns = drop)\n",
    "X = df1.drop(columns = [\"y\"])\n",
    "X1 = pd.get_dummies(X,columns = [\"job\",\"marital\",'education','housing','month'])\n",
    "#X1 = pd.get_dummies(X,columns = [\"job\",\"marital\",'education','housing'])\n",
    "y = df1[\"y\"]\n",
    "\n",
    "from imblearn.over_sampling import SMOTE\n",
    "oversample = SMOTE()\n",
    "X1, y = oversample.fit_resample(X1, y)"
   ]
  },
  {
   "cell_type": "code",
   "execution_count": 385,
   "id": "5e52373c-2ce4-45c9-a603-c74dfa16da3e",
   "metadata": {},
   "outputs": [
    {
     "data": {
      "text/plain": [
       "(64524, 38)"
      ]
     },
     "execution_count": 385,
     "metadata": {},
     "output_type": "execute_result"
    }
   ],
   "source": [
    "X1.shape"
   ]
  },
  {
   "cell_type": "code",
   "execution_count": 386,
   "id": "7f497191-b4f2-44f5-9cb6-2b316fcc911f",
   "metadata": {},
   "outputs": [
    {
     "data": {
      "text/plain": [
       "0        0\n",
       "1        0\n",
       "2        0\n",
       "3        0\n",
       "4        0\n",
       "        ..\n",
       "64519    1\n",
       "64520    1\n",
       "64521    1\n",
       "64522    1\n",
       "64523    1\n",
       "Name: y, Length: 64524, dtype: int64"
      ]
     },
     "execution_count": 386,
     "metadata": {},
     "output_type": "execute_result"
    }
   ],
   "source": [
    "# y.replace('no', 0 ,inplace = True)\n",
    "y.replace({'yes': 1,\"no\":0} ,inplace = True)\n",
    "y"
   ]
  },
  {
   "cell_type": "markdown",
   "id": "611dda09-c216-41b1-bc68-aa3354a6d6f8",
   "metadata": {},
   "source": [
    "### Logistic Regression"
   ]
  },
  {
   "cell_type": "code",
   "execution_count": 387,
   "id": "184137b0-dce3-42a3-add8-7966e77087af",
   "metadata": {},
   "outputs": [
    {
     "name": "stderr",
     "output_type": "stream",
     "text": [
      "/Users/vivek/anaconda3/lib/python3.8/site-packages/statsmodels/tsa/tsatools.py:142: FutureWarning: In a future version of pandas all arguments of concat except for the argument 'objs' will be keyword-only.\n",
      "  x = pd.concat(x[::order], 1)\n"
     ]
    },
    {
     "data": {
      "text/html": [
       "<table class=\"simpletable\">\n",
       "<caption>OLS Regression Results</caption>\n",
       "<tr>\n",
       "  <th>Dep. Variable:</th>            <td>y</td>        <th>  R-squared:         </th> <td>   0.729</td>\n",
       "</tr>\n",
       "<tr>\n",
       "  <th>Model:</th>                   <td>OLS</td>       <th>  Adj. R-squared:    </th> <td>   0.729</td>\n",
       "</tr>\n",
       "<tr>\n",
       "  <th>Method:</th>             <td>Least Squares</td>  <th>  F-statistic:       </th> <td>   4559.</td>\n",
       "</tr>\n",
       "<tr>\n",
       "  <th>Date:</th>             <td>Tue, 17 Jan 2023</td> <th>  Prob (F-statistic):</th>  <td>  0.00</td> \n",
       "</tr>\n",
       "<tr>\n",
       "  <th>Time:</th>                 <td>14:14:00</td>     <th>  Log-Likelihood:    </th> <td> -4737.1</td>\n",
       "</tr>\n",
       "<tr>\n",
       "  <th>No. Observations:</th>      <td> 64524</td>      <th>  AIC:               </th> <td>   9552.</td>\n",
       "</tr>\n",
       "<tr>\n",
       "  <th>Df Residuals:</th>          <td> 64485</td>      <th>  BIC:               </th> <td>   9906.</td>\n",
       "</tr>\n",
       "<tr>\n",
       "  <th>Df Model:</th>              <td>    38</td>      <th>                     </th>     <td> </td>   \n",
       "</tr>\n",
       "<tr>\n",
       "  <th>Covariance Type:</th>      <td>nonrobust</td>    <th>                     </th>     <td> </td>   \n",
       "</tr>\n",
       "</table>\n",
       "<table class=\"simpletable\">\n",
       "<tr>\n",
       "           <td></td>              <th>coef</th>     <th>std err</th>      <th>t</th>      <th>P>|t|</th>  <th>[0.025</th>    <th>0.975]</th>  \n",
       "</tr>\n",
       "<tr>\n",
       "  <th>const</th>               <td>    1.0310</td> <td>    0.006</td> <td>  162.979</td> <td> 0.000</td> <td>    1.019</td> <td>    1.043</td>\n",
       "</tr>\n",
       "<tr>\n",
       "  <th>age</th>                 <td>   -0.0002</td> <td>    0.000</td> <td>   -1.446</td> <td> 0.148</td> <td>   -0.000</td> <td> 6.09e-05</td>\n",
       "</tr>\n",
       "<tr>\n",
       "  <th>balance</th>             <td>  1.11e-05</td> <td> 1.19e-06</td> <td>    9.322</td> <td> 0.000</td> <td> 8.77e-06</td> <td> 1.34e-05</td>\n",
       "</tr>\n",
       "<tr>\n",
       "  <th>day</th>                 <td>   -0.0006</td> <td>    0.000</td> <td>   -3.963</td> <td> 0.000</td> <td>   -0.001</td> <td>   -0.000</td>\n",
       "</tr>\n",
       "<tr>\n",
       "  <th>duration</th>            <td>    0.0003</td> <td> 3.22e-06</td> <td>   79.077</td> <td> 0.000</td> <td>    0.000</td> <td>    0.000</td>\n",
       "</tr>\n",
       "<tr>\n",
       "  <th>campaign</th>            <td>   -0.0235</td> <td>    0.001</td> <td>  -22.351</td> <td> 0.000</td> <td>   -0.026</td> <td>   -0.021</td>\n",
       "</tr>\n",
       "<tr>\n",
       "  <th>job_admin.</th>          <td>   -0.2576</td> <td>    0.005</td> <td>  -49.269</td> <td> 0.000</td> <td>   -0.268</td> <td>   -0.247</td>\n",
       "</tr>\n",
       "<tr>\n",
       "  <th>job_blue-collar</th>     <td>   -0.2776</td> <td>    0.005</td> <td>  -57.679</td> <td> 0.000</td> <td>   -0.287</td> <td>   -0.268</td>\n",
       "</tr>\n",
       "<tr>\n",
       "  <th>job_entrepreneur</th>    <td>   -0.3215</td> <td>    0.009</td> <td>  -37.701</td> <td> 0.000</td> <td>   -0.338</td> <td>   -0.305</td>\n",
       "</tr>\n",
       "<tr>\n",
       "  <th>job_housemaid</th>       <td>   -0.3135</td> <td>    0.009</td> <td>  -33.764</td> <td> 0.000</td> <td>   -0.332</td> <td>   -0.295</td>\n",
       "</tr>\n",
       "<tr>\n",
       "  <th>job_management</th>      <td>   -0.2342</td> <td>    0.005</td> <td>  -50.142</td> <td> 0.000</td> <td>   -0.243</td> <td>   -0.225</td>\n",
       "</tr>\n",
       "<tr>\n",
       "  <th>job_retired</th>         <td>   -0.1699</td> <td>    0.007</td> <td>  -24.940</td> <td> 0.000</td> <td>   -0.183</td> <td>   -0.157</td>\n",
       "</tr>\n",
       "<tr>\n",
       "  <th>job_self-employed</th>   <td>   -0.2967</td> <td>    0.008</td> <td>  -36.213</td> <td> 0.000</td> <td>   -0.313</td> <td>   -0.281</td>\n",
       "</tr>\n",
       "<tr>\n",
       "  <th>job_services</th>        <td>   -0.2890</td> <td>    0.006</td> <td>  -50.151</td> <td> 0.000</td> <td>   -0.300</td> <td>   -0.278</td>\n",
       "</tr>\n",
       "<tr>\n",
       "  <th>job_student</th>         <td>   -0.1383</td> <td>    0.009</td> <td>  -15.224</td> <td> 0.000</td> <td>   -0.156</td> <td>   -0.120</td>\n",
       "</tr>\n",
       "<tr>\n",
       "  <th>job_technician</th>      <td>   -0.2639</td> <td>    0.005</td> <td>  -55.774</td> <td> 0.000</td> <td>   -0.273</td> <td>   -0.255</td>\n",
       "</tr>\n",
       "<tr>\n",
       "  <th>job_unemployed</th>      <td>   -0.2610</td> <td>    0.009</td> <td>  -30.041</td> <td> 0.000</td> <td>   -0.278</td> <td>   -0.244</td>\n",
       "</tr>\n",
       "<tr>\n",
       "  <th>job_unknown</th>         <td>   -0.2799</td> <td>    0.018</td> <td>  -15.531</td> <td> 0.000</td> <td>   -0.315</td> <td>   -0.245</td>\n",
       "</tr>\n",
       "<tr>\n",
       "  <th>marital_divorced</th>    <td>   -0.1063</td> <td>    0.005</td> <td>  -21.580</td> <td> 0.000</td> <td>   -0.116</td> <td>   -0.097</td>\n",
       "</tr>\n",
       "<tr>\n",
       "  <th>marital_married</th>     <td>   -0.0910</td> <td>    0.003</td> <td>  -27.919</td> <td> 0.000</td> <td>   -0.097</td> <td>   -0.085</td>\n",
       "</tr>\n",
       "<tr>\n",
       "  <th>marital_single</th>      <td>   -0.0690</td> <td>    0.004</td> <td>  -19.326</td> <td> 0.000</td> <td>   -0.076</td> <td>   -0.062</td>\n",
       "</tr>\n",
       "<tr>\n",
       "  <th>education_primary</th>   <td>   -0.1176</td> <td>    0.005</td> <td>  -23.591</td> <td> 0.000</td> <td>   -0.127</td> <td>   -0.108</td>\n",
       "</tr>\n",
       "<tr>\n",
       "  <th>education_secondary</th> <td>   -0.0746</td> <td>    0.003</td> <td>  -21.935</td> <td> 0.000</td> <td>   -0.081</td> <td>   -0.068</td>\n",
       "</tr>\n",
       "<tr>\n",
       "  <th>education_tertiary</th>  <td>   -0.0492</td> <td>    0.004</td> <td>  -12.433</td> <td> 0.000</td> <td>   -0.057</td> <td>   -0.041</td>\n",
       "</tr>\n",
       "<tr>\n",
       "  <th>education_unknown</th>   <td>   -0.1057</td> <td>    0.007</td> <td>  -14.140</td> <td> 0.000</td> <td>   -0.120</td> <td>   -0.091</td>\n",
       "</tr>\n",
       "<tr>\n",
       "  <th>housing_no</th>          <td>   -0.0014</td> <td>    0.003</td> <td>   -0.436</td> <td> 0.663</td> <td>   -0.008</td> <td>    0.005</td>\n",
       "</tr>\n",
       "<tr>\n",
       "  <th>housing_yes</th>         <td>   -0.0925</td> <td>    0.004</td> <td>  -25.097</td> <td> 0.000</td> <td>   -0.100</td> <td>   -0.085</td>\n",
       "</tr>\n",
       "<tr>\n",
       "  <th>month_apr</th>           <td>   -0.3137</td> <td>    0.006</td> <td>  -54.193</td> <td> 0.000</td> <td>   -0.325</td> <td>   -0.302</td>\n",
       "</tr>\n",
       "<tr>\n",
       "  <th>month_aug</th>           <td>   -0.4403</td> <td>    0.005</td> <td>  -86.135</td> <td> 0.000</td> <td>   -0.450</td> <td>   -0.430</td>\n",
       "</tr>\n",
       "<tr>\n",
       "  <th>month_dec</th>           <td>   -0.1774</td> <td>    0.020</td> <td>   -8.929</td> <td> 0.000</td> <td>   -0.216</td> <td>   -0.138</td>\n",
       "</tr>\n",
       "<tr>\n",
       "  <th>month_feb</th>           <td>   -0.3859</td> <td>    0.006</td> <td>  -60.830</td> <td> 0.000</td> <td>   -0.398</td> <td>   -0.373</td>\n",
       "</tr>\n",
       "<tr>\n",
       "  <th>month_jan</th>           <td>   -0.4958</td> <td>    0.008</td> <td>  -60.597</td> <td> 0.000</td> <td>   -0.512</td> <td>   -0.480</td>\n",
       "</tr>\n",
       "<tr>\n",
       "  <th>month_jul</th>           <td>   -0.4388</td> <td>    0.005</td> <td>  -91.179</td> <td> 0.000</td> <td>   -0.448</td> <td>   -0.429</td>\n",
       "</tr>\n",
       "<tr>\n",
       "  <th>month_jun</th>           <td>   -0.4355</td> <td>    0.005</td> <td>  -83.173</td> <td> 0.000</td> <td>   -0.446</td> <td>   -0.425</td>\n",
       "</tr>\n",
       "<tr>\n",
       "  <th>month_mar</th>           <td>   -0.0673</td> <td>    0.013</td> <td>   -5.322</td> <td> 0.000</td> <td>   -0.092</td> <td>   -0.043</td>\n",
       "</tr>\n",
       "<tr>\n",
       "  <th>month_may</th>           <td>   -0.4229</td> <td>    0.004</td> <td>  -98.530</td> <td> 0.000</td> <td>   -0.431</td> <td>   -0.414</td>\n",
       "</tr>\n",
       "<tr>\n",
       "  <th>month_nov</th>           <td>   -0.4480</td> <td>    0.006</td> <td>  -77.036</td> <td> 0.000</td> <td>   -0.459</td> <td>   -0.437</td>\n",
       "</tr>\n",
       "<tr>\n",
       "  <th>month_oct</th>           <td>   -0.1546</td> <td>    0.010</td> <td>  -15.244</td> <td> 0.000</td> <td>   -0.174</td> <td>   -0.135</td>\n",
       "</tr>\n",
       "<tr>\n",
       "  <th>month_sep</th>           <td>   -0.1482</td> <td>    0.011</td> <td>  -12.947</td> <td> 0.000</td> <td>   -0.171</td> <td>   -0.126</td>\n",
       "</tr>\n",
       "</table>\n",
       "<table class=\"simpletable\">\n",
       "<tr>\n",
       "  <th>Omnibus:</th>       <td>16216.493</td> <th>  Durbin-Watson:     </th> <td>   1.712</td> \n",
       "</tr>\n",
       "<tr>\n",
       "  <th>Prob(Omnibus):</th>  <td> 0.000</td>   <th>  Jarque-Bera (JB):  </th> <td>37026.659</td>\n",
       "</tr>\n",
       "<tr>\n",
       "  <th>Skew:</th>           <td> 1.432</td>   <th>  Prob(JB):          </th> <td>    0.00</td> \n",
       "</tr>\n",
       "<tr>\n",
       "  <th>Kurtosis:</th>       <td> 5.360</td>   <th>  Cond. No.          </th> <td>2.34e+04</td> \n",
       "</tr>\n",
       "</table><br/><br/>Notes:<br/>[1] Standard Errors assume that the covariance matrix of the errors is correctly specified.<br/>[2] The condition number is large, 2.34e+04. This might indicate that there are<br/>strong multicollinearity or other numerical problems."
      ],
      "text/plain": [
       "<class 'statsmodels.iolib.summary.Summary'>\n",
       "\"\"\"\n",
       "                            OLS Regression Results                            \n",
       "==============================================================================\n",
       "Dep. Variable:                      y   R-squared:                       0.729\n",
       "Model:                            OLS   Adj. R-squared:                  0.729\n",
       "Method:                 Least Squares   F-statistic:                     4559.\n",
       "Date:                Tue, 17 Jan 2023   Prob (F-statistic):               0.00\n",
       "Time:                        14:14:00   Log-Likelihood:                -4737.1\n",
       "No. Observations:               64524   AIC:                             9552.\n",
       "Df Residuals:                   64485   BIC:                             9906.\n",
       "Df Model:                          38                                         \n",
       "Covariance Type:            nonrobust                                         \n",
       "=======================================================================================\n",
       "                          coef    std err          t      P>|t|      [0.025      0.975]\n",
       "---------------------------------------------------------------------------------------\n",
       "const                   1.0310      0.006    162.979      0.000       1.019       1.043\n",
       "age                    -0.0002      0.000     -1.446      0.148      -0.000    6.09e-05\n",
       "balance               1.11e-05   1.19e-06      9.322      0.000    8.77e-06    1.34e-05\n",
       "day                    -0.0006      0.000     -3.963      0.000      -0.001      -0.000\n",
       "duration                0.0003   3.22e-06     79.077      0.000       0.000       0.000\n",
       "campaign               -0.0235      0.001    -22.351      0.000      -0.026      -0.021\n",
       "job_admin.             -0.2576      0.005    -49.269      0.000      -0.268      -0.247\n",
       "job_blue-collar        -0.2776      0.005    -57.679      0.000      -0.287      -0.268\n",
       "job_entrepreneur       -0.3215      0.009    -37.701      0.000      -0.338      -0.305\n",
       "job_housemaid          -0.3135      0.009    -33.764      0.000      -0.332      -0.295\n",
       "job_management         -0.2342      0.005    -50.142      0.000      -0.243      -0.225\n",
       "job_retired            -0.1699      0.007    -24.940      0.000      -0.183      -0.157\n",
       "job_self-employed      -0.2967      0.008    -36.213      0.000      -0.313      -0.281\n",
       "job_services           -0.2890      0.006    -50.151      0.000      -0.300      -0.278\n",
       "job_student            -0.1383      0.009    -15.224      0.000      -0.156      -0.120\n",
       "job_technician         -0.2639      0.005    -55.774      0.000      -0.273      -0.255\n",
       "job_unemployed         -0.2610      0.009    -30.041      0.000      -0.278      -0.244\n",
       "job_unknown            -0.2799      0.018    -15.531      0.000      -0.315      -0.245\n",
       "marital_divorced       -0.1063      0.005    -21.580      0.000      -0.116      -0.097\n",
       "marital_married        -0.0910      0.003    -27.919      0.000      -0.097      -0.085\n",
       "marital_single         -0.0690      0.004    -19.326      0.000      -0.076      -0.062\n",
       "education_primary      -0.1176      0.005    -23.591      0.000      -0.127      -0.108\n",
       "education_secondary    -0.0746      0.003    -21.935      0.000      -0.081      -0.068\n",
       "education_tertiary     -0.0492      0.004    -12.433      0.000      -0.057      -0.041\n",
       "education_unknown      -0.1057      0.007    -14.140      0.000      -0.120      -0.091\n",
       "housing_no             -0.0014      0.003     -0.436      0.663      -0.008       0.005\n",
       "housing_yes            -0.0925      0.004    -25.097      0.000      -0.100      -0.085\n",
       "month_apr              -0.3137      0.006    -54.193      0.000      -0.325      -0.302\n",
       "month_aug              -0.4403      0.005    -86.135      0.000      -0.450      -0.430\n",
       "month_dec              -0.1774      0.020     -8.929      0.000      -0.216      -0.138\n",
       "month_feb              -0.3859      0.006    -60.830      0.000      -0.398      -0.373\n",
       "month_jan              -0.4958      0.008    -60.597      0.000      -0.512      -0.480\n",
       "month_jul              -0.4388      0.005    -91.179      0.000      -0.448      -0.429\n",
       "month_jun              -0.4355      0.005    -83.173      0.000      -0.446      -0.425\n",
       "month_mar              -0.0673      0.013     -5.322      0.000      -0.092      -0.043\n",
       "month_may              -0.4229      0.004    -98.530      0.000      -0.431      -0.414\n",
       "month_nov              -0.4480      0.006    -77.036      0.000      -0.459      -0.437\n",
       "month_oct              -0.1546      0.010    -15.244      0.000      -0.174      -0.135\n",
       "month_sep              -0.1482      0.011    -12.947      0.000      -0.171      -0.126\n",
       "==============================================================================\n",
       "Omnibus:                    16216.493   Durbin-Watson:                   1.712\n",
       "Prob(Omnibus):                  0.000   Jarque-Bera (JB):            37026.659\n",
       "Skew:                           1.432   Prob(JB):                         0.00\n",
       "Kurtosis:                       5.360   Cond. No.                     2.34e+04\n",
       "==============================================================================\n",
       "\n",
       "Notes:\n",
       "[1] Standard Errors assume that the covariance matrix of the errors is correctly specified.\n",
       "[2] The condition number is large, 2.34e+04. This might indicate that there are\n",
       "strong multicollinearity or other numerical problems.\n",
       "\"\"\""
      ]
     },
     "execution_count": 387,
     "metadata": {},
     "output_type": "execute_result"
    }
   ],
   "source": [
    "from sklearn.linear_model import LogisticRegression\n",
    "from sklearn.metrics import accuracy_score, confusion_matrix, roc_auc_score, f1_score,classification_report, recall_score, precision_score\n",
    "\n",
    "import statsmodels.api as sm\n",
    "Xc = sm.add_constant(X1)\n",
    "model = sm.OLS(y,Xc).fit()\n",
    "model.summary()"
   ]
  },
  {
   "cell_type": "markdown",
   "id": "6fed4964-d045-4cb2-b506-dfaaaef36dd8",
   "metadata": {},
   "source": [
    "# Split"
   ]
  },
  {
   "cell_type": "markdown",
   "id": "5f09cb77-fd83-4465-9d22-0ca4f9331e1e",
   "metadata": {},
   "source": [
    "### with Age"
   ]
  },
  {
   "cell_type": "code",
   "execution_count": 388,
   "id": "24bf1c39-55c7-4300-90b4-152470ff416c",
   "metadata": {},
   "outputs": [],
   "source": [
    "from sklearn.model_selection import train_test_split\n",
    "X_train,X_test,y_train,y_test = train_test_split(X1,y,test_size=0.2,random_state=37,stratify = y)"
   ]
  },
  {
   "cell_type": "markdown",
   "id": "4bf049da-ea79-4f61-8ea4-1d92b2f72b8c",
   "metadata": {},
   "source": [
    "### without Age"
   ]
  },
  {
   "cell_type": "code",
   "execution_count": 389,
   "id": "5a4e71fe-3397-43e4-a0c7-07b68b0653ee",
   "metadata": {},
   "outputs": [],
   "source": [
    "X1_a = X1.drop(columns = [\"age\"])\n",
    "from sklearn.model_selection import train_test_split\n",
    "X_train_a,X_test_a,y_train_a,y_test_a = train_test_split(X1_a,y,test_size=0.2,random_state=37,stratify = y)"
   ]
  },
  {
   "cell_type": "markdown",
   "id": "39d4c445-75d8-4747-88d3-f2f9e7d6da9d",
   "metadata": {},
   "source": [
    "# Model Creation"
   ]
  },
  {
   "cell_type": "markdown",
   "id": "604ec60b-b22e-436e-b857-d65b747e5ee0",
   "metadata": {},
   "source": [
    "### Random Forest with Age"
   ]
  },
  {
   "cell_type": "code",
   "execution_count": 390,
   "id": "b1351682-5c81-43d7-a85b-3c9bc205f1ef",
   "metadata": {},
   "outputs": [
    {
     "name": "stdout",
     "output_type": "stream",
     "text": [
      "Accuracy 1.0\n",
      "F1 train 1.0\n",
      "recall 1.0\n",
      "Precision 1.0\n",
      "\n",
      "\n",
      "Accuracy 0.9435877566834561\n",
      "F1 test 0.943560902080151\n",
      "recall 0.9435877566834561\n",
      "Precision 0.9444368335806591\n"
     ]
    }
   ],
   "source": [
    "from sklearn.ensemble import RandomForestClassifier\n",
    "\n",
    "rf = RandomForestClassifier(random_state=3)\n",
    "\n",
    "rf.fit(X_train, y_train)\n",
    "y_train_pred = rf.predict(X_train)\n",
    "y_train_prob = rf.predict_proba(X_train)\n",
    "\n",
    "y_test_pred = rf.predict(X_test)\n",
    "y_test_prob = rf.predict_proba(X_test)\n",
    "\n",
    "\n",
    "print(\"Accuracy\",accuracy_score(y_train,y_train_pred))\n",
    "#print(\"AUC train\", roc_auc_score(y_train,y_train_prob))\n",
    "print(\"F1 train\", f1_score(y_train,y_train_pred,average = 'weighted'))\n",
    "print(\"recall\",recall_score(y_train,y_train_pred,average = 'weighted'))\n",
    "print(\"Precision\",precision_score(y_train,y_train_pred,average = 'weighted'))\n",
    "\n",
    "print(\"\\n\")\n",
    "print(\"Accuracy\",accuracy_score(y_test,y_test_pred))\n",
    "#print(\"AUC test\",roc_auc_score(y_test,y_test_prob,multi_class = \"ovo\"))\n",
    "print(\"F1 test\",f1_score(y_test,y_test_pred,average = 'weighted'))\n",
    "print(\"recall\",recall_score(y_test,y_test_pred,average = 'weighted'))\n",
    "print(\"Precision\",precision_score(y_test,y_test_pred,average = 'weighted'))"
   ]
  },
  {
   "cell_type": "code",
   "execution_count": 391,
   "id": "65d264f3-a76c-4b57-8e2e-41f2f07871bc",
   "metadata": {},
   "outputs": [
    {
     "name": "stdout",
     "output_type": "stream",
     "text": [
      "Accuracy 0.9999612545768031\n",
      "F1 train 0.9999612545768031\n",
      "recall 0.9999612545768031\n",
      "Precision 0.9999612545768031\n",
      "\n",
      "\n",
      "Accuracy 0.9421154591243704\n",
      "F1 test 0.9420943321903668\n",
      "recall 0.9421154591243704\n",
      "Precision 0.9427644266204093\n"
     ]
    }
   ],
   "source": [
    "from sklearn.ensemble import RandomForestClassifier\n",
    "\n",
    "rf = RandomForestClassifier(random_state=3)\n",
    "\n",
    "rf.fit(X_train_a, y_train_a)\n",
    "y_train_pred_a = rf.predict(X_train_a)\n",
    "y_train_prob_a = rf.predict_proba(X_train_a)\n",
    "\n",
    "y_test_pred_a = rf.predict(X_test_a)\n",
    "y_test_prob_a = rf.predict_proba(X_test_a)\n",
    "\n",
    "\n",
    "print(\"Accuracy\",accuracy_score(y_train_a,y_train_pred_a))\n",
    "#print(\"AUC train\", roc_auc_score(y_train,y_train_prob))\n",
    "print(\"F1 train\", f1_score(y_train_a,y_train_pred_a,average = 'weighted'))\n",
    "print(\"recall\",recall_score(y_train_a,y_train_pred_a,average = 'weighted'))\n",
    "print(\"Precision\",precision_score(y_train_a,y_train_pred_a,average = 'weighted'))\n",
    "\n",
    "print(\"\\n\")\n",
    "print(\"Accuracy\",accuracy_score(y_test_a,y_test_pred_a))\n",
    "#print(\"AUC test\",roc_auc_score(y_test,y_test_prob,multi_class = \"ovo\"))\n",
    "print(\"F1 test\",f1_score(y_test_a,y_test_pred_a,average = 'weighted'))\n",
    "print(\"recall\",recall_score(y_test_a,y_test_pred_a,average = 'weighted'))\n",
    "print(\"Precision\",precision_score(y_test_a,y_test_pred_a,average = 'weighted'))"
   ]
  },
  {
   "cell_type": "markdown",
   "id": "38fc9dd3",
   "metadata": {},
   "source": [
    "### Feature selection with best features\n"
   ]
  },
  {
   "cell_type": "code",
   "execution_count": 170,
   "id": "0ea21cc1",
   "metadata": {},
   "outputs": [],
   "source": [
    "#best_features = pd.DataFrame(rf.feature_importances_,index=X1.columns,columns=['value'])\n",
    "#b = list(best_features[best_features['value'] >0].index)\n",
    "#X_best = X1[b]"
   ]
  },
  {
   "cell_type": "markdown",
   "id": "4a9201f1",
   "metadata": {},
   "source": [
    "### RandomForest with Randomized search\n"
   ]
  },
  {
   "cell_type": "code",
   "execution_count": 172,
   "id": "8f868084",
   "metadata": {},
   "outputs": [
    {
     "data": {
      "text/plain": [
       "RandomizedSearchCV(cv=<generator object _BaseKFold.split at 0x7f825cf29eb0>,\n",
       "                   estimator=RandomForestClassifier(), n_iter=100, n_jobs=-1,\n",
       "                   param_distributions={'max_depth': <scipy.stats._distn_infrastructure.rv_frozen object at 0x7f827e25fb80>,\n",
       "                                        'max_features': <scipy.stats._distn_infrastructure.rv_frozen object at 0x7f827e25f880>,\n",
       "                                        'min_samples_leaf': <scipy.stats._distn_infrastructure.rv_frozen object at 0x7f827e25feb0>,\n",
       "                                        'min_samples_split': <scipy.stats._distn_infrastructure.rv_frozen object at 0x7f828ed0a400>,\n",
       "                                        'n_estimators': <scipy.stats._distn_infrastructure.rv_frozen object at 0x7f827ebda6a0>},\n",
       "                   refit='f1_weighted', return_train_score=True,\n",
       "                   scoring=['f1_weighted', 'precision_weighted'])"
      ]
     },
     "execution_count": 172,
     "metadata": {},
     "output_type": "execute_result"
    }
   ],
   "source": [
    "from sklearn.model_selection import StratifiedKFold\n",
    "from sklearn.model_selection import cross_validate\n",
    "from sklearn.metrics import f1_score, make_scorer, roc_auc_score\n",
    "from sklearn.ensemble import RandomForestClassifier\n",
    "from sklearn.model_selection import RandomizedSearchCV\n",
    "from scipy.stats import randint as sp_randint\n",
    "from sklearn.model_selection import RandomizedSearchCV\n",
    "\n",
    "rf = RandomForestClassifier()\n",
    "skf = StratifiedKFold(n_splits=6, random_state = 1001, shuffle = True )\n",
    "param_rf = {\n",
    "    'n_estimators': sp_randint(50, 200),\n",
    "    'max_features': sp_randint(1, 14),\n",
    "    'max_depth': sp_randint(2, 10),\n",
    "    'min_samples_leaf': sp_randint(1, 20),\n",
    "    'min_samples_split': sp_randint(2, 20)}\n",
    "\n",
    "rsearch_rf = RandomizedSearchCV(rf, param_distributions=param_rf, scoring=['f1_weighted','precision_weighted'], n_iter=100,\n",
    "                            cv=skf.split(X_train,y_train), n_jobs=-1, return_train_score=True, refit = 'f1_weighted')\n",
    "\n",
    "rsearch_rf.fit(X_train, y_train)"
   ]
  },
  {
   "cell_type": "code",
   "execution_count": 173,
   "id": "39fc9490",
   "metadata": {},
   "outputs": [
    {
     "data": {
      "text/plain": [
       "{'max_depth': 9,\n",
       " 'max_features': 2,\n",
       " 'min_samples_leaf': 15,\n",
       " 'min_samples_split': 14,\n",
       " 'n_estimators': 67}"
      ]
     },
     "execution_count": 173,
     "metadata": {},
     "output_type": "execute_result"
    }
   ],
   "source": [
    "rsearch_rf.best_params_"
   ]
  },
  {
   "cell_type": "code",
   "execution_count": 175,
   "id": "c5bed53a",
   "metadata": {},
   "outputs": [
    {
     "name": "stdout",
     "output_type": "stream",
     "text": [
      "Accuracy 0.9128137384412153\n",
      "F1 train 0.9127313238771972\n",
      "recall 0.9128137384412153\n",
      "Precision 0.9143790592883617\n",
      "\n",
      "\n",
      "Accuracy 0.9070494994438265\n",
      "F1 test 0.9069530933308216\n",
      "recall 0.9070494994438265\n",
      "Precision 0.9087434997469934\n"
     ]
    }
   ],
   "source": [
    "rf = RandomForestClassifier(**rsearch_rf.best_params_, oob_score=True,  random_state=3)\n",
    "\n",
    "rf.fit(X_train, y_train)\n",
    "\n",
    "y_train_pred_rf1 = rf.predict(X_train)\n",
    "y_train_prob_rf1 = rf.predict_proba(X_train)\n",
    "\n",
    "y_test_pred_rf1 = rf.predict(X_test)\n",
    "y_test_prob_rf1 = rf.predict_proba(X_test)\n",
    "\n",
    "\n",
    "print(\"Accuracy\",accuracy_score(y_train,y_train_pred_rf1))\n",
    "#print(\"AUC train\", roc_auc_score(y_train,y_train_prob_rf1))\n",
    "print(\"F1 train\", f1_score(y_train,y_train_pred_rf1,average = 'weighted'))\n",
    "print(\"recall\",recall_score(y_train,y_train_pred_rf1,average = 'weighted'))\n",
    "print(\"Precision\",precision_score(y_train,y_train_pred_rf1,average = 'weighted'))\n",
    "\n",
    "print(\"\\n\")\n",
    "print(\"Accuracy\",accuracy_score(y_test,y_test_pred_rf1))\n",
    "#print(\"AUC test\",roc_auc_score(y_test1,y_test_prob_rf1,multi_class = \"ovo\"))\n",
    "print(\"F1 test\",f1_score(y_test,y_test_pred_rf1,average = 'weighted'))\n",
    "print(\"recall\",recall_score(y_test,y_test_pred_rf1,average = 'weighted'))\n",
    "print(\"Precision\",precision_score(y_test,y_test_pred_rf1,average = 'weighted'))"
   ]
  },
  {
   "cell_type": "markdown",
   "id": "5b076670",
   "metadata": {},
   "source": [
    "### Decision Tree"
   ]
  },
  {
   "cell_type": "code",
   "execution_count": 356,
   "id": "c635356e",
   "metadata": {},
   "outputs": [
    {
     "name": "stdout",
     "output_type": "stream",
     "text": [
      "Accuracy 1.0\n",
      "F1 train 1.0\n",
      "recall 1.0\n",
      "Precision 1.0\n",
      "\n",
      "\n",
      "Accuracy 0.9211933359163115\n",
      "F1 test 0.9211903451622955\n",
      "recall 0.9211933359163115\n",
      "Precision 0.9212564071003029\n"
     ]
    }
   ],
   "source": [
    "from sklearn.tree import DecisionTreeClassifier as dct\n",
    "from sklearn.metrics import classification_report, recall_score, precision_score, f1_score\n",
    "dt = dct()\n",
    "dt.fit(X_train,y_train)\n",
    "y_train_pred = dt.predict(X_train)\n",
    "y_train_prob = dt.predict_proba(X_train)\n",
    "y_test_pred = dt.predict(X_test)\n",
    "y_test_prob = dt.predict_proba(X_test)\n",
    "print(\"Accuracy\",accuracy_score(y_train,y_train_pred))\n",
    "#print(\"AUC train\", roc_auc_score(y_train,y_train_prob, multi_class = \"ovo\"))\n",
    "print(\"F1 train\", f1_score(y_train,y_train_pred,average = 'weighted'))\n",
    "print(\"recall\",recall_score(y_train,y_train_pred,average = 'weighted'))\n",
    "print(\"Precision\",precision_score(y_train,y_train_pred,average = 'weighted'))\n",
    "\n",
    "print(\"\\n\")\n",
    "print(\"Accuracy\",accuracy_score(y_test,y_test_pred))\n",
    "#print(\"AUC test\",roc_auc_score(y_test,y_test_prob,multi_class = \"ovo\"))\n",
    "print(\"F1 test\",f1_score(y_test,y_test_pred,average = 'weighted'))\n",
    "print(\"recall\",recall_score(y_test,y_test_pred,average = 'weighted'))\n",
    "print(\"Precision\",precision_score(y_test,y_test_pred,average = 'weighted'))"
   ]
  },
  {
   "cell_type": "code",
   "execution_count": 177,
   "id": "05df7e4b",
   "metadata": {},
   "outputs": [
    {
     "data": {
      "image/png": "[encoded data removed]",
      "text/plain": [
       "<Figure size 864x360 with 4 Axes>"
      ]
     },
     "metadata": {
      "needs_background": "light"
     },
     "output_type": "display_data"
    }
   ],
   "source": [
    "fig,axes = plt.subplots(1,2,figsize = (12,5))\n",
    "sns.heatmap(confusion_matrix(y_test,y_test_pred),fmt = 'd',annot = True, ax = axes[0])\n",
    "sns.heatmap(confusion_matrix(y_train,y_train_pred),fmt = 'd',annot = True,ax = axes[1])\n",
    "#plt.savefig(\"Logistic median.png\")\n",
    "plt.show()"
   ]
  },
  {
   "cell_type": "code",
   "execution_count": 392,
   "id": "a58a6338",
   "metadata": {},
   "outputs": [],
   "source": [
    "from sklearn.model_selection import GridSearchCV\n",
    "from sklearn.metrics import f1_score, make_scorer\n",
    "\n",
    "#f1 = make_scorer(f1_score , average='weighted')\n",
    "#dt = dct(random_state = 3)\n",
    "#params = {\"max_depth\": [6,8,10,12,14,16], 'min_samples_split':[2,4,6,8,10,12],'min_samples_leaf':[1,2,4,6]}\n",
    "\n",
    "#gsearch_dt = GridSearchCV(dt,param_grid=params, cv = 6,scoring = ['f1_weighted','precision_weighted'],return_train_score=True,n_jobs = -1, refit = 'f1_weighted')\n",
    "\n",
    "#gsearch_dt.fit(X1,y)\n",
    "#gsearch_dt.best_params_"
   ]
  },
  {
   "cell_type": "code",
   "execution_count": null,
   "id": "6475ed5b",
   "metadata": {},
   "outputs": [],
   "source": [
    "from sklearn.ensemble import BaggingClassifier\n",
    "dt = dct(max_depth = 19, min_samples_leaf = 6, min_samples_split = 2)\n",
    "bc = BaggingClassifier(base_estimator=dt, n_estimators=2000, random_state=1, oob_score=True)\n",
    "dt.fit(X_train,y_train)\n",
    "y_train_pred_dt = dt.predict(X_train)\n",
    "y_train_prob_dt = dt.predict_proba(X_train)\n",
    "y_test_pred_dt = dt.predict(X_test)\n",
    "y_test_prob_dt = dt.predict_proba(X_test)\n",
    "print(\"Accuracy\",accuracy_score(y_train,y_train_pred_dt))\n",
    "print(\"F1 train\", f1_score(y_train,y_train_pred_dt,average = 'weighted'))\n",
    "print(\"recall\",recall_score(y_train,y_train_pred_dt,average = 'weighted'))\n",
    "print(\"Precision\",precision_score(y_train,y_train_pred_dt,average = 'weighted'))\n",
    "\n",
    "print(\"\\n\")\n",
    "print(\"Accuracy\",accuracy_score(y_test,y_test_pred_dt))\n",
    "print(\"F1 test\",f1_score(y_test,y_test_pred_dt,average = 'weighted'))\n",
    "print(\"recall\",recall_score(y_test,y_test_pred_dt,average = 'weighted'))\n",
    "print(\"Precision\",precision_score(y_test,y_test_pred_dt,average = 'weighted'))"
   ]
  },
  {
   "cell_type": "markdown",
   "id": "3b1efc2b",
   "metadata": {},
   "source": [
    "### Gradient Boosting"
   ]
  },
  {
   "cell_type": "code",
   "execution_count": 393,
   "id": "f8e33a9e",
   "metadata": {},
   "outputs": [
    {
     "name": "stdout",
     "output_type": "stream",
     "text": [
      "Accuracy 0.940273930142002\n",
      "F1 train 0.9402433611669839\n",
      "recall 0.940273930142002\n",
      "Precision 0.9411758539156478\n",
      "\n",
      "\n",
      "Accuracy 0.9397907787679194\n",
      "F1 test 0.9397635250301155\n",
      "recall 0.9397907787679194\n",
      "Precision 0.9405912583612092\n"
     ]
    }
   ],
   "source": [
    "from sklearn.ensemble import GradientBoostingClassifier, GradientBoostingRegressor\n",
    "gbc1=GradientBoostingClassifier(n_estimators=500,learning_rate=0.05,random_state=100,max_features=5 )\n",
    "gbc1.fit(X_train,y_train)\n",
    "\n",
    "y_train_pred_gbc = gbc1.predict(X_train)\n",
    "y_train_prob_gbc = gbc1.predict_proba(X_train)\n",
    "y_test_pred_gbc = gbc1.predict(X_test)\n",
    "y_test_prob_gbc = gbc1.predict_proba(X_test)\n",
    "print(\"Accuracy\",accuracy_score(y_train,y_train_pred_gbc))\n",
    "print(\"F1 train\", f1_score(y_train,y_train_pred_gbc,average = 'weighted'))\n",
    "print(\"recall\",recall_score(y_train,y_train_pred_gbc,average = 'weighted'))\n",
    "print(\"Precision\",precision_score(y_train,y_train_pred_gbc,average = 'weighted'))\n",
    "\n",
    "print(\"\\n\")\n",
    "print(\"Accuracy\",accuracy_score(y_test,y_test_pred_gbc))\n",
    "print(\"F1 test\",f1_score(y_test,y_test_pred_gbc,average = 'weighted'))\n",
    "print(\"recall\",recall_score(y_test,y_test_pred_gbc,average = 'weighted'))\n",
    "print(\"Precision\",precision_score(y_test,y_test_pred_gbc,average = 'weighted'))"
   ]
  },
  {
   "cell_type": "markdown",
   "id": "06964a3f",
   "metadata": {},
   "source": [
    "### Gradient Boosting Hyperparameters Tuning"
   ]
  },
  {
   "cell_type": "code",
   "execution_count": 359,
   "id": "81f7d923",
   "metadata": {},
   "outputs": [
    {
     "data": {
      "text/plain": [
       "RandomizedSearchCV(cv=<generator object _BaseKFold.split at 0x7f826489ef90>,\n",
       "                   estimator=GradientBoostingClassifier(), n_iter=100,\n",
       "                   n_jobs=-1,\n",
       "                   param_distributions={'learning_rate': [0.01, 0.1, 1, 10,\n",
       "                                                          100],\n",
       "                                        'max_depth': [1, 3, 5, 7, 9],\n",
       "                                        'n_estimators': [5, 50, 250, 500]},\n",
       "                   refit='f1_weighted', return_train_score=True,\n",
       "                   scoring=['f1_weighted', 'precision_weighted'])"
      ]
     },
     "execution_count": 359,
     "metadata": {},
     "output_type": "execute_result"
    }
   ],
   "source": [
    "gbc = GradientBoostingClassifier()\n",
    "skf = StratifiedKFold(n_splits=6, random_state = 1001, shuffle = True )\n",
    "parameters_gbc= {\n",
    "    \"n_estimators\":[5,50,250,500],\n",
    "    \"max_depth\":[1,3,5,7,9],\n",
    "    \"learning_rate\":[0.01,0.05,0.1,1,10,100]\n",
    "}\n",
    "\n",
    "rsearch_gbc = RandomizedSearchCV(gbc, param_distributions=parameters_gbc, scoring=['f1_weighted','precision_weighted'], n_iter=100,\n",
    "                            cv=skf.split(X_train,y_train), n_jobs=-1, return_train_score=True, refit = 'f1_weighted')\n",
    "\n",
    "rsearch_gbc.fit(X_train, y_train)"
   ]
  },
  {
   "cell_type": "code",
   "execution_count": 361,
   "id": "4e05bd12",
   "metadata": {
    "collapsed": true,
    "jupyter": {
     "outputs_hidden": true
    },
    "tags": []
   },
   "outputs": [
    {
     "name": "stderr",
     "output_type": "stream",
     "text": [
      "/Users/vivek/anaconda3/lib/python3.8/site-packages/sklearn/metrics/_classification.py:1318: UndefinedMetricWarning: Precision is ill-defined and being set to 0.0 in labels with no predicted samples. Use `zero_division` parameter to control this behavior.\n",
      "  _warn_prf(average, modifier, msg_start, len(result))\n",
      "/Users/vivek/anaconda3/lib/python3.8/site-packages/sklearn/metrics/_classification.py:1318: UndefinedMetricWarning: Precision is ill-defined and being set to 0.0 in labels with no predicted samples. Use `zero_division` parameter to control this behavior.\n",
      "  _warn_prf(average, modifier, msg_start, len(result))\n",
      "/Users/vivek/anaconda3/lib/python3.8/site-packages/sklearn/metrics/_classification.py:1318: UndefinedMetricWarning: Precision is ill-defined and being set to 0.0 in labels with no predicted samples. Use `zero_division` parameter to control this behavior.\n",
      "  _warn_prf(average, modifier, msg_start, len(result))\n",
      "/Users/vivek/anaconda3/lib/python3.8/site-packages/sklearn/metrics/_classification.py:1318: UndefinedMetricWarning: Precision is ill-defined and being set to 0.0 in labels with no predicted samples. Use `zero_division` parameter to control this behavior.\n",
      "  _warn_prf(average, modifier, msg_start, len(result))\n",
      "/Users/vivek/anaconda3/lib/python3.8/site-packages/sklearn/metrics/_classification.py:1318: UndefinedMetricWarning: Precision is ill-defined and being set to 0.0 in labels with no predicted samples. Use `zero_division` parameter to control this behavior.\n",
      "  _warn_prf(average, modifier, msg_start, len(result))\n",
      "/Users/vivek/anaconda3/lib/python3.8/site-packages/sklearn/metrics/_classification.py:1318: UndefinedMetricWarning: Precision is ill-defined and being set to 0.0 in labels with no predicted samples. Use `zero_division` parameter to control this behavior.\n",
      "  _warn_prf(average, modifier, msg_start, len(result))\n",
      "/Users/vivek/anaconda3/lib/python3.8/site-packages/sklearn/metrics/_classification.py:1318: UndefinedMetricWarning: Precision is ill-defined and being set to 0.0 in labels with no predicted samples. Use `zero_division` parameter to control this behavior.\n",
      "  _warn_prf(average, modifier, msg_start, len(result))\n",
      "/Users/vivek/anaconda3/lib/python3.8/site-packages/sklearn/metrics/_classification.py:1318: UndefinedMetricWarning: Precision is ill-defined and being set to 0.0 in labels with no predicted samples. Use `zero_division` parameter to control this behavior.\n",
      "  _warn_prf(average, modifier, msg_start, len(result))\n",
      "/Users/vivek/anaconda3/lib/python3.8/site-packages/sklearn/metrics/_classification.py:1318: UndefinedMetricWarning: Precision is ill-defined and being set to 0.0 in labels with no predicted samples. Use `zero_division` parameter to control this behavior.\n",
      "  _warn_prf(average, modifier, msg_start, len(result))\n",
      "/Users/vivek/anaconda3/lib/python3.8/site-packages/sklearn/metrics/_classification.py:1318: UndefinedMetricWarning: Precision is ill-defined and being set to 0.0 in labels with no predicted samples. Use `zero_division` parameter to control this behavior.\n",
      "  _warn_prf(average, modifier, msg_start, len(result))\n",
      "/Users/vivek/anaconda3/lib/python3.8/site-packages/sklearn/metrics/_classification.py:1318: UndefinedMetricWarning: Precision is ill-defined and being set to 0.0 in labels with no predicted samples. Use `zero_division` parameter to control this behavior.\n",
      "  _warn_prf(average, modifier, msg_start, len(result))\n",
      "/Users/vivek/anaconda3/lib/python3.8/site-packages/sklearn/metrics/_classification.py:1318: UndefinedMetricWarning: Precision is ill-defined and being set to 0.0 in labels with no predicted samples. Use `zero_division` parameter to control this behavior.\n",
      "  _warn_prf(average, modifier, msg_start, len(result))\n",
      "/Users/vivek/anaconda3/lib/python3.8/site-packages/sklearn/metrics/_classification.py:1318: UndefinedMetricWarning: Precision is ill-defined and being set to 0.0 in labels with no predicted samples. Use `zero_division` parameter to control this behavior.\n",
      "  _warn_prf(average, modifier, msg_start, len(result))\n",
      "/Users/vivek/anaconda3/lib/python3.8/site-packages/sklearn/metrics/_classification.py:1318: UndefinedMetricWarning: Precision is ill-defined and being set to 0.0 in labels with no predicted samples. Use `zero_division` parameter to control this behavior.\n",
      "  _warn_prf(average, modifier, msg_start, len(result))\n",
      "/Users/vivek/anaconda3/lib/python3.8/site-packages/sklearn/metrics/_classification.py:1318: UndefinedMetricWarning: Precision is ill-defined and being set to 0.0 in labels with no predicted samples. Use `zero_division` parameter to control this behavior.\n",
      "  _warn_prf(average, modifier, msg_start, len(result))\n",
      "/Users/vivek/anaconda3/lib/python3.8/site-packages/sklearn/metrics/_classification.py:1318: UndefinedMetricWarning: Precision is ill-defined and being set to 0.0 in labels with no predicted samples. Use `zero_division` parameter to control this behavior.\n",
      "  _warn_prf(average, modifier, msg_start, len(result))\n",
      "/Users/vivek/anaconda3/lib/python3.8/site-packages/sklearn/metrics/_classification.py:1318: UndefinedMetricWarning: Precision is ill-defined and being set to 0.0 in labels with no predicted samples. Use `zero_division` parameter to control this behavior.\n",
      "  _warn_prf(average, modifier, msg_start, len(result))\n",
      "/Users/vivek/anaconda3/lib/python3.8/site-packages/sklearn/metrics/_classification.py:1318: UndefinedMetricWarning: Precision is ill-defined and being set to 0.0 in labels with no predicted samples. Use `zero_division` parameter to control this behavior.\n",
      "  _warn_prf(average, modifier, msg_start, len(result))\n",
      "/Users/vivek/anaconda3/lib/python3.8/site-packages/sklearn/metrics/_classification.py:1318: UndefinedMetricWarning: Precision is ill-defined and being set to 0.0 in labels with no predicted samples. Use `zero_division` parameter to control this behavior.\n",
      "  _warn_prf(average, modifier, msg_start, len(result))\n",
      "/Users/vivek/anaconda3/lib/python3.8/site-packages/sklearn/metrics/_classification.py:1318: UndefinedMetricWarning: Precision is ill-defined and being set to 0.0 in labels with no predicted samples. Use `zero_division` parameter to control this behavior.\n",
      "  _warn_prf(average, modifier, msg_start, len(result))\n",
      "/Users/vivek/anaconda3/lib/python3.8/site-packages/sklearn/metrics/_classification.py:1318: UndefinedMetricWarning: Precision is ill-defined and being set to 0.0 in labels with no predicted samples. Use `zero_division` parameter to control this behavior.\n",
      "  _warn_prf(average, modifier, msg_start, len(result))\n",
      "/Users/vivek/anaconda3/lib/python3.8/site-packages/sklearn/metrics/_classification.py:1318: UndefinedMetricWarning: Precision is ill-defined and being set to 0.0 in labels with no predicted samples. Use `zero_division` parameter to control this behavior.\n",
      "  _warn_prf(average, modifier, msg_start, len(result))\n",
      "/Users/vivek/anaconda3/lib/python3.8/site-packages/sklearn/metrics/_classification.py:1318: UndefinedMetricWarning: Precision is ill-defined and being set to 0.0 in labels with no predicted samples. Use `zero_division` parameter to control this behavior.\n",
      "  _warn_prf(average, modifier, msg_start, len(result))\n",
      "/Users/vivek/anaconda3/lib/python3.8/site-packages/sklearn/metrics/_classification.py:1318: UndefinedMetricWarning: Precision is ill-defined and being set to 0.0 in labels with no predicted samples. Use `zero_division` parameter to control this behavior.\n",
      "  _warn_prf(average, modifier, msg_start, len(result))\n",
      "/Users/vivek/anaconda3/lib/python3.8/site-packages/sklearn/metrics/_classification.py:1318: UndefinedMetricWarning: Precision is ill-defined and being set to 0.0 in labels with no predicted samples. Use `zero_division` parameter to control this behavior.\n",
      "  _warn_prf(average, modifier, msg_start, len(result))\n",
      "/Users/vivek/anaconda3/lib/python3.8/site-packages/sklearn/metrics/_classification.py:1318: UndefinedMetricWarning: Precision is ill-defined and being set to 0.0 in labels with no predicted samples. Use `zero_division` parameter to control this behavior.\n",
      "  _warn_prf(average, modifier, msg_start, len(result))\n",
      "/Users/vivek/anaconda3/lib/python3.8/site-packages/sklearn/metrics/_classification.py:1318: UndefinedMetricWarning: Precision is ill-defined and being set to 0.0 in labels with no predicted samples. Use `zero_division` parameter to control this behavior.\n",
      "  _warn_prf(average, modifier, msg_start, len(result))\n",
      "/Users/vivek/anaconda3/lib/python3.8/site-packages/sklearn/metrics/_classification.py:1318: UndefinedMetricWarning: Precision is ill-defined and being set to 0.0 in labels with no predicted samples. Use `zero_division` parameter to control this behavior.\n",
      "  _warn_prf(average, modifier, msg_start, len(result))\n",
      "/Users/vivek/anaconda3/lib/python3.8/site-packages/sklearn/metrics/_classification.py:1318: UndefinedMetricWarning: Precision is ill-defined and being set to 0.0 in labels with no predicted samples. Use `zero_division` parameter to control this behavior.\n",
      "  _warn_prf(average, modifier, msg_start, len(result))\n",
      "/Users/vivek/anaconda3/lib/python3.8/site-packages/sklearn/metrics/_classification.py:1318: UndefinedMetricWarning: Precision is ill-defined and being set to 0.0 in labels with no predicted samples. Use `zero_division` parameter to control this behavior.\n",
      "  _warn_prf(average, modifier, msg_start, len(result))\n",
      "/Users/vivek/anaconda3/lib/python3.8/site-packages/sklearn/metrics/_classification.py:1318: UndefinedMetricWarning: Precision is ill-defined and being set to 0.0 in labels with no predicted samples. Use `zero_division` parameter to control this behavior.\n",
      "  _warn_prf(average, modifier, msg_start, len(result))\n",
      "/Users/vivek/anaconda3/lib/python3.8/site-packages/sklearn/metrics/_classification.py:1318: UndefinedMetricWarning: Precision is ill-defined and being set to 0.0 in labels with no predicted samples. Use `zero_division` parameter to control this behavior.\n",
      "  _warn_prf(average, modifier, msg_start, len(result))\n",
      "/Users/vivek/anaconda3/lib/python3.8/site-packages/sklearn/metrics/_classification.py:1318: UndefinedMetricWarning: Precision is ill-defined and being set to 0.0 in labels with no predicted samples. Use `zero_division` parameter to control this behavior.\n",
      "  _warn_prf(average, modifier, msg_start, len(result))\n",
      "/Users/vivek/anaconda3/lib/python3.8/site-packages/sklearn/metrics/_classification.py:1318: UndefinedMetricWarning: Precision is ill-defined and being set to 0.0 in labels with no predicted samples. Use `zero_division` parameter to control this behavior.\n",
      "  _warn_prf(average, modifier, msg_start, len(result))\n",
      "/Users/vivek/anaconda3/lib/python3.8/site-packages/sklearn/metrics/_classification.py:1318: UndefinedMetricWarning: Precision is ill-defined and being set to 0.0 in labels with no predicted samples. Use `zero_division` parameter to control this behavior.\n",
      "  _warn_prf(average, modifier, msg_start, len(result))\n",
      "/Users/vivek/anaconda3/lib/python3.8/site-packages/sklearn/metrics/_classification.py:1318: UndefinedMetricWarning: Precision is ill-defined and being set to 0.0 in labels with no predicted samples. Use `zero_division` parameter to control this behavior.\n",
      "  _warn_prf(average, modifier, msg_start, len(result))\n",
      "/Users/vivek/anaconda3/lib/python3.8/site-packages/sklearn/metrics/_classification.py:1318: UndefinedMetricWarning: Precision is ill-defined and being set to 0.0 in labels with no predicted samples. Use `zero_division` parameter to control this behavior.\n",
      "  _warn_prf(average, modifier, msg_start, len(result))\n",
      "/Users/vivek/anaconda3/lib/python3.8/site-packages/sklearn/metrics/_classification.py:1318: UndefinedMetricWarning: Precision is ill-defined and being set to 0.0 in labels with no predicted samples. Use `zero_division` parameter to control this behavior.\n",
      "  _warn_prf(average, modifier, msg_start, len(result))\n",
      "/Users/vivek/anaconda3/lib/python3.8/site-packages/sklearn/metrics/_classification.py:1318: UndefinedMetricWarning: Precision is ill-defined and being set to 0.0 in labels with no predicted samples. Use `zero_division` parameter to control this behavior.\n",
      "  _warn_prf(average, modifier, msg_start, len(result))\n",
      "/Users/vivek/anaconda3/lib/python3.8/site-packages/sklearn/metrics/_classification.py:1318: UndefinedMetricWarning: Precision is ill-defined and being set to 0.0 in labels with no predicted samples. Use `zero_division` parameter to control this behavior.\n",
      "  _warn_prf(average, modifier, msg_start, len(result))\n",
      "/Users/vivek/anaconda3/lib/python3.8/site-packages/sklearn/metrics/_classification.py:1318: UndefinedMetricWarning: Precision is ill-defined and being set to 0.0 in labels with no predicted samples. Use `zero_division` parameter to control this behavior.\n",
      "  _warn_prf(average, modifier, msg_start, len(result))\n",
      "/Users/vivek/anaconda3/lib/python3.8/site-packages/sklearn/metrics/_classification.py:1318: UndefinedMetricWarning: Precision is ill-defined and being set to 0.0 in labels with no predicted samples. Use `zero_division` parameter to control this behavior.\n",
      "  _warn_prf(average, modifier, msg_start, len(result))\n",
      "/Users/vivek/anaconda3/lib/python3.8/site-packages/sklearn/metrics/_classification.py:1318: UndefinedMetricWarning: Precision is ill-defined and being set to 0.0 in labels with no predicted samples. Use `zero_division` parameter to control this behavior.\n",
      "  _warn_prf(average, modifier, msg_start, len(result))\n",
      "/Users/vivek/anaconda3/lib/python3.8/site-packages/sklearn/metrics/_classification.py:1318: UndefinedMetricWarning: Precision is ill-defined and being set to 0.0 in labels with no predicted samples. Use `zero_division` parameter to control this behavior.\n",
      "  _warn_prf(average, modifier, msg_start, len(result))\n",
      "/Users/vivek/anaconda3/lib/python3.8/site-packages/sklearn/metrics/_classification.py:1318: UndefinedMetricWarning: Precision is ill-defined and being set to 0.0 in labels with no predicted samples. Use `zero_division` parameter to control this behavior.\n",
      "  _warn_prf(average, modifier, msg_start, len(result))\n",
      "/Users/vivek/anaconda3/lib/python3.8/site-packages/sklearn/metrics/_classification.py:1318: UndefinedMetricWarning: Precision is ill-defined and being set to 0.0 in labels with no predicted samples. Use `zero_division` parameter to control this behavior.\n",
      "  _warn_prf(average, modifier, msg_start, len(result))\n"
     ]
    },
    {
     "name": "stdout",
     "output_type": "stream",
     "text": [
      "Accuracy 1.0\n",
      "F1 train 1.0\n",
      "recall 1.0\n",
      "Precision 1.0\n",
      "\n",
      "\n",
      "Accuracy 0.9447500968616815\n",
      "F1 test 0.9447425816297482\n",
      "recall 0.9447500968616815\n",
      "Precision 0.9449938941433242\n"
     ]
    }
   ],
   "source": [
    "gbc = GradientBoostingClassifier(**rsearch_gbc.best_params_,   random_state=3)\n",
    "\n",
    "gbc.fit(X_train, y_train)\n",
    "\n",
    "y_train_pred_gbc1 = gbc.predict(X_train)\n",
    "y_train_prob_gbc1 = gbc.predict_proba(X_train)\n",
    "\n",
    "y_test_pred_gbc1 = gbc.predict(X_test)\n",
    "y_test_prob_gbc1 = gbc.predict_proba(X_test)\n",
    "\n",
    "\n",
    "print(\"Accuracy\",accuracy_score(y_train,y_train_pred_gbc1))\n",
    "#print(\"AUC train\", roc_auc_score(y_train,y_train_prob_rf1))\n",
    "print(\"F1 train\", f1_score(y_train,y_train_pred_gbc1,average = 'weighted'))\n",
    "print(\"recall\",recall_score(y_train,y_train_pred_gbc1,average = 'weighted'))\n",
    "print(\"Precision\",precision_score(y_train,y_train_pred_gbc1,average = 'weighted'))\n",
    "\n",
    "print(\"\\n\")\n",
    "print(\"Accuracy\",accuracy_score(y_test,y_test_pred_gbc1))\n",
    "#print(\"AUC test\",roc_auc_score(y_test1,y_test_prob_rf1,multi_class = \"ovo\"))\n",
    "print(\"F1 test\",f1_score(y_test,y_test_pred_gbc1,average = 'weighted'))\n",
    "print(\"recall\",recall_score(y_test,y_test_pred_gbc1,average = 'weighted'))\n",
    "print(\"Precision\",precision_score(y_test,y_test_pred_gbc1,average = 'weighted'))"
   ]
  },
  {
   "cell_type": "markdown",
   "id": "21dc19b3",
   "metadata": {},
   "source": [
    "### File Pickle"
   ]
  },
  {
   "cell_type": "code",
   "execution_count": 395,
   "id": "77d8fb9a",
   "metadata": {},
   "outputs": [],
   "source": [
    "import pickle\n",
    "filename = 'GB_Model'\n",
    "pickle.dump(gbc1, open(filename, 'wb'))\n",
    "pred = gbc1.predict(X1)"
   ]
  },
  {
   "cell_type": "code",
   "execution_count": null,
   "id": "60f04f3a",
   "metadata": {},
   "outputs": [],
   "source": []
  }
 ],
 "metadata": {
  "kernelspec": {
   "display_name": "Python 3",
   "language": "python",
   "name": "python3"
  },
  "language_info": {
   "codemirror_mode": {
    "name": "ipython",
    "version": 3
   },
   "file_extension": ".py",
   "mimetype": "text/x-python",
   "name": "python",
   "nbconvert_exporter": "python",
   "pygments_lexer": "ipython3",
   "version": "3.8.8"
  }
 },
 "nbformat": 4,
 "nbformat_minor": 5
}
